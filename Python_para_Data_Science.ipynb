{
  "nbformat": 4,
  "nbformat_minor": 0,
  "metadata": {
    "colab": {
      "provenance": [],
      "include_colab_link": true
    },
    "kernelspec": {
      "name": "python3",
      "display_name": "Python 3"
    },
    "language_info": {
      "name": "python"
    }
  },
  "cells": [
    {
      "cell_type": "markdown",
      "metadata": {
        "id": "view-in-github",
        "colab_type": "text"
      },
      "source": [
        "<a href=\"https://colab.research.google.com/github/mauloredo/2048-python-para-data-science-trabajar-con-funciones/blob/main/Python_para_Data_Science.ipynb\" target=\"_parent\"><img src=\"https://colab.research.google.com/assets/colab-badge.svg\" alt=\"Open In Colab\"/></a>"
      ]
    },
    {
      "cell_type": "markdown",
      "source": [
        "# <font color=green> **PYTHON PARA DATA SCIENCE**\n",
        "---"
      ],
      "metadata": {
        "id": "AGc2Cf4cBwd7"
      }
    },
    {
      "cell_type": "markdown",
      "source": [
        "## <font color=green> 1. BIBLIOTECAS\n",
        "---"
      ],
      "metadata": {
        "id": "fH2br9y9CYZ8"
      }
    },
    {
      "cell_type": "markdown",
      "source": [
        "## 1.1 Instalación e importación de bibliotecas\n",
        "\n",
        "En el lenguaje Python se utiliza bastante el concepto de bibliotecas como un conjunto de módulos y funciones útiles para el usuario. Estas favorecen la reducción del uso de códigos en el proyecto, manteniendo únicamente los recursos necesarios para la tarea que deseamos realizar."
      ],
      "metadata": {
        "id": "jjEKgfiuFzHz"
      }
    },
    {
      "cell_type": "markdown",
      "source": [
        "### Instalando una biblioteca"
      ],
      "metadata": {
        "id": "JjpazCgqDRfZ"
      }
    },
    {
      "cell_type": "markdown",
      "source": [
        "Para instalar o actualizar una biblioteca en Python, podemos acudir a `pip` que es un gestor de bibliotecas en Python."
      ],
      "metadata": {
        "id": "_qnuIo7oIQYx"
      }
    },
    {
      "cell_type": "markdown",
      "source": [
        "Existe también PYPI que es un repositorio de bibliotecas Python que contiene las bibliotecas más utilizadas por la comunidad junto a su respectiva documentación.\n",
        "\n",
        "- PYPI ([https://pypi.org/](https://pypi.org/))"
      ],
      "metadata": {
        "id": "IHTmQnlXInD1"
      }
    },
    {
      "cell_type": "code",
      "source": [
        "import matplotlib\n",
        "matplotlib.__version__\n",
        "import matplotlib.pyplot as plt\n",
        "# Imprimir todos los paquetes instalados en el entorno y sus versiones\n",
        "!pip list\n",
        "\n",
        "\n",
        "\n"
      ],
      "metadata": {
        "id": "Rv5sIo7NM5VS",
        "colab": {
          "base_uri": "https://localhost:8080/"
        },
        "outputId": "47671fd6-b746-44b8-9d0a-53ec7c9620d4"
      },
      "execution_count": null,
      "outputs": [
        {
          "output_type": "stream",
          "name": "stdout",
          "text": [
            "Package                            Version\n",
            "---------------------------------- -------------------\n",
            "absl-py                            1.4.0\n",
            "accelerate                         1.5.2\n",
            "aiohappyeyeballs                   2.6.1\n",
            "aiohttp                            3.11.15\n",
            "aiosignal                          1.3.2\n",
            "alabaster                          1.0.0\n",
            "albucore                           0.0.23\n",
            "albumentations                     2.0.5\n",
            "ale-py                             0.10.2\n",
            "altair                             5.5.0\n",
            "annotated-types                    0.7.0\n",
            "anyio                              4.9.0\n",
            "argon2-cffi                        23.1.0\n",
            "argon2-cffi-bindings               21.2.0\n",
            "array_record                       0.7.1\n",
            "arviz                              0.21.0\n",
            "astropy                            7.0.1\n",
            "astropy-iers-data                  0.2025.3.31.0.36.18\n",
            "astunparse                         1.6.3\n",
            "atpublic                           5.1\n",
            "attrs                              25.3.0\n",
            "audioread                          3.0.1\n",
            "autograd                           1.7.0\n",
            "babel                              2.17.0\n",
            "backcall                           0.2.0\n",
            "beautifulsoup4                     4.13.3\n",
            "betterproto                        2.0.0b6\n",
            "bigframes                          1.42.0\n",
            "bigquery-magics                    0.9.0\n",
            "bleach                             6.2.0\n",
            "blinker                            1.9.0\n",
            "blis                               1.3.0\n",
            "blosc2                             3.2.1\n",
            "bokeh                              3.6.3\n",
            "Bottleneck                         1.4.2\n",
            "bqplot                             0.12.44\n",
            "branca                             0.8.1\n",
            "CacheControl                       0.14.2\n",
            "cachetools                         5.5.2\n",
            "catalogue                          2.0.10\n",
            "certifi                            2025.1.31\n",
            "cffi                               1.17.1\n",
            "chardet                            5.2.0\n",
            "charset-normalizer                 3.4.1\n",
            "chex                               0.1.89\n",
            "clarabel                           0.10.0\n",
            "click                              8.1.8\n",
            "cloudpathlib                       0.21.0\n",
            "cloudpickle                        3.1.1\n",
            "cmake                              3.31.6\n",
            "cmdstanpy                          1.2.5\n",
            "colorcet                           3.1.0\n",
            "colorlover                         0.3.0\n",
            "colour                             0.1.5\n",
            "community                          1.0.0b1\n",
            "confection                         0.1.5\n",
            "cons                               0.4.6\n",
            "contourpy                          1.3.1\n",
            "cramjam                            2.9.1\n",
            "cryptography                       43.0.3\n",
            "cuda-python                        12.6.2.post1\n",
            "cudf-cu12                          25.2.1\n",
            "cudf-polars-cu12                   25.2.2\n",
            "cufflinks                          0.17.3\n",
            "cuml-cu12                          25.2.1\n",
            "cupy-cuda12x                       13.3.0\n",
            "cuvs-cu12                          25.2.1\n",
            "cvxopt                             1.3.2\n",
            "cvxpy                              1.6.4\n",
            "cycler                             0.12.1\n",
            "cyipopt                            1.5.0\n",
            "cymem                              2.0.11\n",
            "Cython                             3.0.12\n",
            "dask                               2024.12.1\n",
            "dask-cuda                          25.2.0\n",
            "dask-cudf-cu12                     25.2.2\n",
            "dask-expr                          1.1.21\n",
            "datascience                        0.17.6\n",
            "db-dtypes                          1.4.2\n",
            "dbus-python                        1.2.18\n",
            "debugpy                            1.8.0\n",
            "decorator                          4.4.2\n",
            "defusedxml                         0.7.1\n",
            "Deprecated                         1.2.18\n",
            "diffusers                          0.32.2\n",
            "distributed                        2024.12.1\n",
            "distributed-ucxx-cu12              0.42.0\n",
            "distro                             1.9.0\n",
            "dlib                               19.24.6\n",
            "dm-tree                            0.1.9\n",
            "docker-pycreds                     0.4.0\n",
            "docstring_parser                   0.16\n",
            "docutils                           0.21.2\n",
            "dopamine_rl                        4.1.2\n",
            "duckdb                             1.2.1\n",
            "earthengine-api                    1.5.9\n",
            "easydict                           1.13\n",
            "editdistance                       0.8.1\n",
            "eerepr                             0.1.1\n",
            "einops                             0.8.1\n",
            "en_core_web_sm                     3.8.0\n",
            "entrypoints                        0.4\n",
            "et_xmlfile                         2.0.0\n",
            "etils                              1.12.2\n",
            "etuples                            0.3.9\n",
            "Farama-Notifications               0.0.4\n",
            "fastai                             2.7.19\n",
            "fastcore                           1.7.29\n",
            "fastdownload                       0.0.7\n",
            "fastjsonschema                     2.21.1\n",
            "fastprogress                       1.0.3\n",
            "fastrlock                          0.8.3\n",
            "filelock                           3.18.0\n",
            "firebase-admin                     6.7.0\n",
            "Flask                              3.1.0\n",
            "flatbuffers                        25.2.10\n",
            "flax                               0.10.5\n",
            "folium                             0.19.5\n",
            "fonttools                          4.57.0\n",
            "frozendict                         2.4.6\n",
            "frozenlist                         1.5.0\n",
            "fsspec                             2025.3.2\n",
            "future                             1.0.0\n",
            "gast                               0.6.0\n",
            "gcsfs                              2025.3.2\n",
            "GDAL                               3.6.4\n",
            "gdown                              5.2.0\n",
            "geemap                             0.35.3\n",
            "geocoder                           1.38.1\n",
            "geographiclib                      2.0\n",
            "geopandas                          1.0.1\n",
            "geopy                              2.4.1\n",
            "gin-config                         0.5.0\n",
            "gitdb                              4.0.12\n",
            "GitPython                          3.1.44\n",
            "glob2                              0.7\n",
            "google                             2.0.3\n",
            "google-ai-generativelanguage       0.6.15\n",
            "google-api-core                    2.24.2\n",
            "google-api-python-client           2.164.0\n",
            "google-auth                        2.38.0\n",
            "google-auth-httplib2               0.2.0\n",
            "google-auth-oauthlib               1.2.1\n",
            "google-cloud-aiplatform            1.87.0\n",
            "google-cloud-bigquery              3.31.0\n",
            "google-cloud-bigquery-connection   1.18.2\n",
            "google-cloud-bigquery-storage      2.30.0\n",
            "google-cloud-bigtable              2.30.0\n",
            "google-cloud-core                  2.4.3\n",
            "google-cloud-dataproc              5.18.1\n",
            "google-cloud-datastore             2.20.2\n",
            "google-cloud-firestore             2.20.1\n",
            "google-cloud-functions             1.20.2\n",
            "google-cloud-iam                   2.18.3\n",
            "google-cloud-language              2.17.1\n",
            "google-cloud-pubsub                2.29.0\n",
            "google-cloud-resource-manager      1.14.2\n",
            "google-cloud-spanner               3.53.0\n",
            "google-cloud-storage               2.19.0\n",
            "google-cloud-translate             3.20.2\n",
            "google-colab                       1.0.0\n",
            "google-crc32c                      1.7.1\n",
            "google-genai                       1.9.0\n",
            "google-generativeai                0.8.4\n",
            "google-pasta                       0.2.0\n",
            "google-resumable-media             2.7.2\n",
            "google-spark-connect               0.5.2\n",
            "googleapis-common-protos           1.69.2\n",
            "googledrivedownloader              1.1.0\n",
            "graphviz                           0.20.3\n",
            "greenlet                           3.1.1\n",
            "grpc-google-iam-v1                 0.14.2\n",
            "grpc-interceptor                   0.15.4\n",
            "grpcio                             1.71.0\n",
            "grpcio-status                      1.71.0\n",
            "grpclib                            0.4.7\n",
            "gspread                            6.2.0\n",
            "gspread-dataframe                  4.0.0\n",
            "gym                                0.25.2\n",
            "gym-notices                        0.0.8\n",
            "gymnasium                          1.1.1\n",
            "h11                                0.14.0\n",
            "h2                                 4.2.0\n",
            "h5netcdf                           1.6.1\n",
            "h5py                               3.13.0\n",
            "hdbscan                            0.8.40\n",
            "highspy                            1.9.0\n",
            "holidays                           0.69\n",
            "holoviews                          1.20.2\n",
            "hpack                              4.1.0\n",
            "html5lib                           1.1\n",
            "httpcore                           1.0.7\n",
            "httpimport                         1.4.1\n",
            "httplib2                           0.22.0\n",
            "httpx                              0.28.1\n",
            "huggingface-hub                    0.30.1\n",
            "humanize                           4.12.2\n",
            "hyperframe                         6.1.0\n",
            "hyperopt                           0.2.7\n",
            "ibis-framework                     9.5.0\n",
            "idna                               3.10\n",
            "imageio                            2.37.0\n",
            "imageio-ffmpeg                     0.6.0\n",
            "imagesize                          1.4.1\n",
            "imbalanced-learn                   0.13.0\n",
            "immutabledict                      4.2.1\n",
            "importlib_metadata                 8.6.1\n",
            "importlib_resources                6.5.2\n",
            "imutils                            0.5.4\n",
            "inflect                            7.5.0\n",
            "iniconfig                          2.1.0\n",
            "intel-cmplr-lib-ur                 2025.1.0\n",
            "intel-openmp                       2025.1.0\n",
            "ipyevents                          2.0.2\n",
            "ipyfilechooser                     0.6.0\n",
            "ipykernel                          6.17.1\n",
            "ipyleaflet                         0.19.2\n",
            "ipyparallel                        8.8.0\n",
            "ipython                            7.34.0\n",
            "ipython-genutils                   0.2.0\n",
            "ipython-sql                        0.5.0\n",
            "ipytree                            0.2.2\n",
            "ipywidgets                         7.7.1\n",
            "itsdangerous                       2.2.0\n",
            "jax                                0.5.2\n",
            "jax-cuda12-pjrt                    0.5.1\n",
            "jax-cuda12-plugin                  0.5.1\n",
            "jaxlib                             0.5.1\n",
            "jeepney                            0.7.1\n",
            "jellyfish                          1.1.0\n",
            "jieba                              0.42.1\n",
            "Jinja2                             3.1.6\n",
            "jiter                              0.9.0\n",
            "joblib                             1.4.2\n",
            "jsonpatch                          1.33\n",
            "jsonpickle                         4.0.5\n",
            "jsonpointer                        3.0.0\n",
            "jsonschema                         4.23.0\n",
            "jsonschema-specifications          2024.10.1\n",
            "jupyter-client                     6.1.12\n",
            "jupyter-console                    6.1.0\n",
            "jupyter_core                       5.7.2\n",
            "jupyter-leaflet                    0.19.2\n",
            "jupyter-server                     1.16.0\n",
            "jupyterlab_pygments                0.3.0\n",
            "jupyterlab_widgets                 3.0.13\n",
            "kaggle                             1.7.4.2\n",
            "kagglehub                          0.3.11\n",
            "keras                              3.8.0\n",
            "keras-hub                          0.18.1\n",
            "keras-nlp                          0.18.1\n",
            "keyring                            23.5.0\n",
            "kiwisolver                         1.4.8\n",
            "langchain                          0.3.23\n",
            "langchain-core                     0.3.51\n",
            "langchain-text-splitters           0.3.8\n",
            "langcodes                          3.5.0\n",
            "langsmith                          0.3.24\n",
            "language_data                      1.3.0\n",
            "launchpadlib                       1.10.16\n",
            "lazr.restfulclient                 0.14.4\n",
            "lazr.uri                           1.0.6\n",
            "lazy_loader                        0.4\n",
            "libclang                           18.1.1\n",
            "libcudf-cu12                       25.2.1\n",
            "libcugraph-cu12                    25.2.0\n",
            "libcuml-cu12                       25.2.1\n",
            "libcuvs-cu12                       25.2.1\n",
            "libkvikio-cu12                     25.2.1\n",
            "libraft-cu12                       25.2.0\n",
            "librosa                            0.11.0\n",
            "libucx-cu12                        1.18.0\n",
            "libucxx-cu12                       0.42.0\n",
            "lightgbm                           4.5.0\n",
            "linkify-it-py                      2.0.3\n",
            "llvmlite                           0.43.0\n",
            "locket                             1.0.0\n",
            "logical-unification                0.4.6\n",
            "lxml                               5.3.1\n",
            "Mako                               1.1.3\n",
            "marisa-trie                        1.2.1\n",
            "Markdown                           3.7\n",
            "markdown-it-py                     3.0.0\n",
            "MarkupSafe                         3.0.2\n",
            "matplotlib                         3.10.0\n",
            "matplotlib-inline                  0.1.7\n",
            "matplotlib-venn                    1.1.2\n",
            "mdit-py-plugins                    0.4.2\n",
            "mdurl                              0.1.2\n",
            "miniKanren                         1.0.3\n",
            "missingno                          0.5.2\n",
            "mistune                            3.1.3\n",
            "mizani                             0.13.2\n",
            "mkl                                2025.0.1\n",
            "ml-dtypes                          0.4.1\n",
            "mlxtend                            0.23.4\n",
            "more-itertools                     10.6.0\n",
            "moviepy                            1.0.3\n",
            "mpmath                             1.3.0\n",
            "msgpack                            1.1.0\n",
            "multidict                          6.3.2\n",
            "multipledispatch                   1.0.0\n",
            "multitasking                       0.0.11\n",
            "murmurhash                         1.0.12\n",
            "music21                            9.3.0\n",
            "namex                              0.0.8\n",
            "narwhals                           1.33.0\n",
            "natsort                            8.4.0\n",
            "nbclassic                          1.2.0\n",
            "nbclient                           0.10.2\n",
            "nbconvert                          7.16.6\n",
            "nbformat                           5.10.4\n",
            "ndindex                            1.9.2\n",
            "nest-asyncio                       1.6.0\n",
            "networkx                           3.4.2\n",
            "nibabel                            5.3.2\n",
            "nltk                               3.9.1\n",
            "notebook                           6.5.7\n",
            "notebook_shim                      0.2.4\n",
            "numba                              0.60.0\n",
            "numba-cuda                         0.2.0\n",
            "numexpr                            2.10.2\n",
            "numpy                              2.0.2\n",
            "nvidia-cublas-cu12                 12.5.3.2\n",
            "nvidia-cuda-cupti-cu12             12.5.82\n",
            "nvidia-cuda-nvcc-cu12              12.5.82\n",
            "nvidia-cuda-nvrtc-cu12             12.5.82\n",
            "nvidia-cuda-runtime-cu12           12.5.82\n",
            "nvidia-cudnn-cu12                  9.3.0.75\n",
            "nvidia-cufft-cu12                  11.2.3.61\n",
            "nvidia-curand-cu12                 10.3.6.82\n",
            "nvidia-cusolver-cu12               11.6.3.83\n",
            "nvidia-cusparse-cu12               12.5.1.3\n",
            "nvidia-cusparselt-cu12             0.6.2\n",
            "nvidia-ml-py                       12.570.86\n",
            "nvidia-nccl-cu12                   2.21.5\n",
            "nvidia-nvcomp-cu12                 4.2.0.11\n",
            "nvidia-nvjitlink-cu12              12.5.82\n",
            "nvidia-nvtx-cu12                   12.4.127\n",
            "nvtx                               0.2.11\n",
            "nx-cugraph-cu12                    25.2.0\n",
            "oauth2client                       4.1.3\n",
            "oauthlib                           3.2.2\n",
            "openai                             1.70.0\n",
            "opencv-contrib-python              4.11.0.86\n",
            "opencv-python                      4.11.0.86\n",
            "opencv-python-headless             4.11.0.86\n",
            "openpyxl                           3.1.5\n",
            "opentelemetry-api                  1.31.1\n",
            "opentelemetry-sdk                  1.31.1\n",
            "opentelemetry-semantic-conventions 0.52b1\n",
            "opt_einsum                         3.4.0\n",
            "optax                              0.2.4\n",
            "optree                             0.14.1\n",
            "orbax-checkpoint                   0.11.10\n",
            "orjson                             3.10.16\n",
            "osqp                               1.0.3\n",
            "packaging                          24.2\n",
            "pandas                             2.2.2\n",
            "pandas-datareader                  0.10.0\n",
            "pandas-gbq                         0.28.0\n",
            "pandas-stubs                       2.2.2.240909\n",
            "pandocfilters                      1.5.1\n",
            "panel                              1.6.2\n",
            "param                              2.2.0\n",
            "parso                              0.8.4\n",
            "parsy                              2.1\n",
            "partd                              1.4.2\n",
            "pathlib                            1.0.1\n",
            "patsy                              1.0.1\n",
            "peewee                             3.17.9\n",
            "peft                               0.14.0\n",
            "pexpect                            4.9.0\n",
            "pickleshare                        0.7.5\n",
            "pillow                             11.1.0\n",
            "pip                                24.1.2\n",
            "platformdirs                       4.3.7\n",
            "plotly                             5.24.1\n",
            "plotnine                           0.14.5\n",
            "pluggy                             1.5.0\n",
            "ply                                3.11\n",
            "polars                             1.21.0\n",
            "pooch                              1.8.2\n",
            "portpicker                         1.5.2\n",
            "preshed                            3.0.9\n",
            "prettytable                        3.16.0\n",
            "proglog                            0.1.11\n",
            "progressbar2                       4.5.0\n",
            "prometheus_client                  0.21.1\n",
            "promise                            2.3\n",
            "prompt_toolkit                     3.0.50\n",
            "propcache                          0.3.1\n",
            "prophet                            1.1.6\n",
            "proto-plus                         1.26.1\n",
            "protobuf                           5.29.4\n",
            "psutil                             5.9.5\n",
            "psycopg2                           2.9.10\n",
            "ptyprocess                         0.7.0\n",
            "py-cpuinfo                         9.0.0\n",
            "py4j                               0.10.9.7\n",
            "pyarrow                            18.1.0\n",
            "pyasn1                             0.6.1\n",
            "pyasn1_modules                     0.4.2\n",
            "pycairo                            1.27.0\n",
            "pycocotools                        2.0.8\n",
            "pycparser                          2.22\n",
            "pydantic                           2.11.2\n",
            "pydantic_core                      2.33.1\n",
            "pydata-google-auth                 1.9.1\n",
            "pydot                              3.0.4\n",
            "pydotplus                          2.0.2\n",
            "PyDrive                            1.3.1\n",
            "PyDrive2                           1.21.3\n",
            "pyerfa                             2.0.1.5\n",
            "pygame                             2.6.1\n",
            "pygit2                             1.17.0\n",
            "Pygments                           2.18.0\n",
            "PyGObject                          3.42.0\n",
            "PyJWT                              2.10.1\n",
            "pylibcudf-cu12                     25.2.1\n",
            "pylibcugraph-cu12                  25.2.0\n",
            "pylibraft-cu12                     25.2.0\n",
            "pymc                               5.21.2\n",
            "pymystem3                          0.2.0\n",
            "pynndescent                        0.5.13\n",
            "pynvjitlink-cu12                   0.5.2\n",
            "pynvml                             12.0.0\n",
            "pyogrio                            0.10.0\n",
            "Pyomo                              6.8.2\n",
            "PyOpenGL                           3.1.9\n",
            "pyOpenSSL                          24.2.1\n",
            "pyparsing                          3.2.3\n",
            "pyperclip                          1.9.0\n",
            "pyproj                             3.7.1\n",
            "pyshp                              2.3.1\n",
            "PySocks                            1.7.1\n",
            "pyspark                            3.5.5\n",
            "pytensor                           2.30.2\n",
            "pytest                             8.3.5\n",
            "python-apt                         0.0.0\n",
            "python-box                         7.3.2\n",
            "python-dateutil                    2.8.2\n",
            "python-louvain                     0.16\n",
            "python-slugify                     8.0.4\n",
            "python-snappy                      0.7.3\n",
            "python-utils                       3.9.1\n",
            "pytz                               2025.2\n",
            "pyviz_comms                        3.0.4\n",
            "PyYAML                             6.0.2\n",
            "pyzmq                              24.0.1\n",
            "raft-dask-cu12                     25.2.0\n",
            "rapids-dask-dependency             25.2.0\n",
            "ratelim                            0.1.6\n",
            "referencing                        0.36.2\n",
            "regex                              2024.11.6\n",
            "requests                           2.32.3\n",
            "requests-oauthlib                  2.0.0\n",
            "requests-toolbelt                  1.0.0\n",
            "requirements-parser                0.9.0\n",
            "rich                               13.9.4\n",
            "rmm-cu12                           25.2.0\n",
            "roman-numerals-py                  3.1.0\n",
            "rpds-py                            0.24.0\n",
            "rpy2                               3.5.17\n",
            "rsa                                4.9\n",
            "safetensors                        0.5.3\n",
            "scikit-image                       0.25.2\n",
            "scikit-learn                       1.6.1\n",
            "scipy                              1.14.1\n",
            "scooby                             0.10.0\n",
            "scs                                3.2.7.post2\n",
            "seaborn                            0.13.2\n",
            "SecretStorage                      3.3.1\n",
            "Send2Trash                         1.8.3\n",
            "sentence-transformers              3.4.1\n",
            "sentencepiece                      0.2.0\n",
            "sentry-sdk                         2.25.1\n",
            "setproctitle                       1.3.5\n",
            "setuptools                         75.2.0\n",
            "shap                               0.47.1\n",
            "shapely                            2.1.0\n",
            "shellingham                        1.5.4\n",
            "simple-parsing                     0.1.7\n",
            "simplejson                         3.20.1\n",
            "simsimd                            6.2.1\n",
            "six                                1.17.0\n",
            "sklearn-compat                     0.1.3\n",
            "sklearn-pandas                     2.2.0\n",
            "slicer                             0.0.8\n",
            "smart-open                         7.1.0\n",
            "smmap                              5.0.2\n",
            "sniffio                            1.3.1\n",
            "snowballstemmer                    2.2.0\n",
            "sortedcontainers                   2.4.0\n",
            "soundfile                          0.13.1\n",
            "soupsieve                          2.6\n",
            "soxr                               0.5.0.post1\n",
            "spacy                              3.8.5\n",
            "spacy-legacy                       3.0.12\n",
            "spacy-loggers                      1.0.5\n",
            "spanner-graph-notebook             1.1.6\n",
            "Sphinx                             8.2.3\n",
            "sphinxcontrib-applehelp            2.0.0\n",
            "sphinxcontrib-devhelp              2.0.0\n",
            "sphinxcontrib-htmlhelp             2.1.0\n",
            "sphinxcontrib-jsmath               1.0.1\n",
            "sphinxcontrib-qthelp               2.0.0\n",
            "sphinxcontrib-serializinghtml      2.0.0\n",
            "SQLAlchemy                         2.0.40\n",
            "sqlglot                            25.20.2\n",
            "sqlparse                           0.5.3\n",
            "srsly                              2.5.1\n",
            "stanio                             0.5.1\n",
            "statsmodels                        0.14.4\n",
            "stringzilla                        3.12.3\n",
            "sympy                              1.13.1\n",
            "tables                             3.10.2\n",
            "tabulate                           0.9.0\n",
            "tbb                                2022.1.0\n",
            "tblib                              3.1.0\n",
            "tcmlib                             1.3.0\n",
            "tenacity                           9.1.2\n",
            "tensorboard                        2.18.0\n",
            "tensorboard-data-server            0.7.2\n",
            "tensorflow                         2.18.0\n",
            "tensorflow-datasets                4.9.8\n",
            "tensorflow_decision_forests        1.11.0\n",
            "tensorflow-hub                     0.16.1\n",
            "tensorflow-io-gcs-filesystem       0.37.1\n",
            "tensorflow-metadata                1.17.0\n",
            "tensorflow-probability             0.25.0\n",
            "tensorflow-text                    2.18.1\n",
            "tensorstore                        0.1.73\n",
            "termcolor                          3.0.1\n",
            "terminado                          0.18.1\n",
            "text-unidecode                     1.3\n",
            "textblob                           0.19.0\n",
            "tf_keras                           2.18.0\n",
            "tf-slim                            1.1.0\n",
            "thinc                              8.3.6\n",
            "threadpoolctl                      3.6.0\n",
            "tifffile                           2025.3.30\n",
            "timm                               1.0.15\n",
            "tinycss2                           1.4.0\n",
            "tokenizers                         0.21.1\n",
            "toml                               0.10.2\n",
            "toolz                              0.12.1\n",
            "torch                              2.6.0+cu124\n",
            "torchaudio                         2.6.0+cu124\n",
            "torchsummary                       1.5.1\n",
            "torchvision                        0.21.0+cu124\n",
            "tornado                            6.4.2\n",
            "tqdm                               4.67.1\n",
            "traitlets                          5.7.1\n",
            "traittypes                         0.2.1\n",
            "transformers                       4.50.3\n",
            "treelite                           4.4.1\n",
            "treescope                          0.1.9\n",
            "triton                             3.2.0\n",
            "tweepy                             4.15.0\n",
            "typeguard                          4.4.2\n",
            "typer                              0.15.2\n",
            "types-pytz                         2025.2.0.20250326\n",
            "types-setuptools                   78.1.0.20250329\n",
            "typing_extensions                  4.13.1\n",
            "typing-inspection                  0.4.0\n",
            "tzdata                             2025.2\n",
            "tzlocal                            5.3.1\n",
            "uc-micro-py                        1.0.3\n",
            "ucx-py-cu12                        0.42.0\n",
            "ucxx-cu12                          0.42.0\n",
            "umap-learn                         0.5.7\n",
            "umf                                0.10.0\n",
            "uritemplate                        4.1.1\n",
            "urllib3                            2.3.0\n",
            "vega-datasets                      0.9.0\n",
            "wadllib                            1.3.6\n",
            "wandb                              0.19.9\n",
            "wasabi                             1.1.3\n",
            "wcwidth                            0.2.13\n",
            "weasel                             0.4.1\n",
            "webcolors                          24.11.1\n",
            "webencodings                       0.5.1\n",
            "websocket-client                   1.8.0\n",
            "websockets                         15.0.1\n",
            "Werkzeug                           3.1.3\n",
            "wheel                              0.45.1\n",
            "widgetsnbextension                 3.6.10\n",
            "wordcloud                          1.9.4\n",
            "wrapt                              1.17.2\n",
            "wurlitzer                          3.1.1\n",
            "xarray                             2025.1.2\n",
            "xarray-einstats                    0.8.0\n",
            "xgboost                            2.1.4\n",
            "xlrd                               2.0.1\n",
            "xyzservices                        2025.1.0\n",
            "yarl                               1.18.3\n",
            "ydf                                0.11.0\n",
            "yellowbrick                        1.5\n",
            "yfinance                           0.2.55\n",
            "zict                               3.0.0\n",
            "zipp                               3.21.0\n",
            "zstandard                          0.23.0\n"
          ]
        }
      ]
    },
    {
      "cell_type": "code",
      "source": [
        "tensorflow-hub                     0.16.1\n",
        "tensorflow-io-gcs-filesystem       0.37.1\n",
        "tensorflow-metadata                1.17.0\n",
        "tensorflow-probability             0.25.0\n",
        "tensorflow-text                    2.18.1\n",
        "tensorstore                        0.1.73\n",
        "termcolor                          3.0.1\n",
        "terminado                          0.18.1\n",
        "text-unidecode                     1.3\n",
        "textblob                           0.19.0\n",
        "tf_keras                           2.18.0\n",
        "tf-slim                            1.1.0\n",
        "thinc                              8.3.6\n",
        "threadpoolctl                      3.6.0\n",
        "tifffile                           2025.3.30\n",
        "timm                               1.0.15\n",
        "tinycss2                           1.4.0\n",
        "tokenizers                         0.21.1\n",
        "toml                               0.10.2\n",
        "toolz                              0.12.1\n",
        "torch                              2.6.0+cu124\n",
        "torchaudio                         2.6.0+cu124\n",
        "torchsummary                       1.5.1\n",
        "torchvision                        0.21.0+cu124\n",
        "tornado                            6.4.2\n",
        "tqdm                               4.67.1\n",
        "traitlets                          5.7.1\n",
        "traittypes                         0.2.1\n",
        "transformers                       4.50.3\n",
        "treelite                           4.4.1\n",
        "treescope                          0.1.9\n",
        "triton                             3.2.0\n",
        "tweepy                             4.15.0\n",
        "typeguard                          4.4.2\n",
        "typer                              0.15.2\n",
        "types-pytz                         2025.2.0.20250326\n",
        "types-setuptools                   78.1.0.20250329\n",
        "typing_extensions                  4.13.1\n",
        "typing-inspection                  0.4.0\n",
        "tzdata                             2025.2\n",
        "tzlocal                            5.3.1\n",
        "uc-micro-py                        1.0.3\n",
        "ucx-py-cu12                        0.42.0\n",
        "ucxx-cu12                          0.42.0\n",
        "umap-learn                         0.5.7\n",
        "umf                                0.10.0\n",
        "uritemplate                        4.1.1\n",
        "urllib3                            2.3.0\n",
        "vega-datasets                      0.9.0\n",
        "wadllib                            1.3.6\n",
        "wandb                              0.19.9\n",
        "wasabi                             1.1.3\n",
        "wcwidth                            0.2.13\n",
        "weasel                             0.4.1\n",
        "webcolors                          24.11.1\n",
        "webencodings                       0.5.1\n",
        "websocket-client                   1.8.0\n",
        "websockets                         15.0.1\n",
        "Werkzeug                           3.1.3\n",
        "wheel                              0.45.1\n",
        "widgetsnbextension                 3.6.10\n",
        "wordcloud                          1.9.4\n",
        "wrapt                              1.17.2\n",
        "wurlitzer                          3.1.1\n",
        "xarray                             2025.1.2\n",
        "xarray-einstats                    0.8.0\n",
        "xgboost                            2.1.4\n",
        "xlrd                               2.0.1\n",
        "xyzservices                        2025.1.0\n",
        "yarl                               1.18.3\n",
        "ydf                                0.11.0\n",
        "yellowbrick                        1.5\n",
        "yfinance                           0.2.55\n",
        "zict                               3.0.0\n",
        "zipp                               3.21.0\n",
        "zstandard                          0.23.0\n",
        "pydantic_core                      2.33.1\n",
        "pydata-google-auth                 1.9.1\n",
        "pydot                              3.0.4\n",
        "pydotplus                          2.0.2\n",
        "PyDrive                            1.3.1\n",
        "PyDrive2                           1.21.3\n",
        "pyerfa                             2.0.1.5\n",
        "pygame                             2.6.1\n",
        "pygit2                             1.17.0\n",
        "Pygments                           2.18.0\n",
        "PyGObject                          3.42.0\n",
        "PyJWT                              2.10.1\n",
        "pylibcudf-cu12                     25.2.1\n",
        "pylibcugraph-cu12                  25.2.0\n",
        "pylibraft-cu12                     25.2.0\n",
        "pymc                               5.21.2\n",
        "pymystem3                          0.2.0\n",
        "pynndescent                        0.5.13\n",
        "pynvjitlink-cu12                   0.5.2\n",
        "pynvml                             12.0.0\n",
        "pyogrio                            0.10.0\n",
        "Pyomo                              6.8.2\n",
        "PyOpenGL                           3.1.9\n",
        "pyOpenSSL                          24.2.1\n",
        "pyparsing                          3.2.3\n",
        "pyperclip                          1.9.0\n",
        "pyproj                             3.7.1\n",
        "pyshp                              2.3.1\n",
        "PySocks                            1.7.1\n",
        "pyspark                            3.5.5\n",
        "pytensor                           2.30.2\n",
        "pytest                             8.3.5\n",
        "python-apt                         0.0.0\n",
        "python-box                         7.3.2\n",
        "python-dateutil                    2.8.2\n",
        "python-louvain                     0.16\n",
        "python-slugify                     8.0.4\n",
        "python-snappy                      0.7.3\n",
        "python-utils                       3.9.1\n",
        "pytz                               2025.2\n",
        "pyviz_comms                        3.0.4\n",
        "PyYAML                             6.0.2\n",
        "pyzmq                              24.0.1\n",
        "raft-dask-cu12                     25.2.0\n",
        "rapids-dask-dependency             25.2.0\n",
        "ratelim                            0.1.6\n",
        "referencing                        0.36.2\n",
        "regex                              2024.11.6\n",
        "requests                           2.32.3\n",
        "requests-oauthlib                  2.0.0\n",
        "requests-toolbelt                  1.0.0\n",
        "requirements-parser                0.9.0\n",
        "rich                               13.9.4\n",
        "rmm-cu12                           25.2.0\n",
        "roman-numerals-py                  3.1.0\n",
        "rpds-py                            0.24.0\n",
        "rpy2                               3.5.17\n",
        "rsa                                4.9\n",
        "safetensors                        0.5.3\n",
        "scikit-image                       0.25.2\n",
        "scikit-learn                       1.6.1\n",
        "scipy                              1.14.1\n",
        "scooby                             0.10.0\n",
        "scs                                3.2.7.post2\n",
        "seaborn                            0.13.2\n",
        "SecretStorage                      3.3.1\n",
        "Send2Trash                         1.8.3\n",
        "sentence-transformers              3.4.1\n",
        "sentencepiece                      0.2.0\n",
        "sentry-sdk                         2.25.1\n",
        "setproctitle                       1.3.5\n",
        "setuptools                         75.2.0\n",
        "shap                               0.47.1\n",
        "shapely                            2.1.0\n",
        "shellingham                        1.5.4\n",
        "simple-parsing                     0.1.7\n",
        "simplejson                         3.20.1\n",
        "simsimd                            6.2.1\n",
        "six                                1.17.0\n",
        "sklearn-compat                     0.1.3\n",
        "sklearn-pandas                     2.2.0\n",
        "slicer                             0.0.8\n",
        "smart-open                         7.1.0\n",
        "smmap                              5.0.2\n",
        "sniffio                            1.3.1\n",
        "snowballstemmer                    2.2.0\n",
        "sortedcontainers                   2.4.0\n",
        "soundfile                          0.13.1\n",
        "soupsieve                          2.6\n",
        "soxr                               0.5.0.post1\n",
        "spacy                              3.8.5\n",
        "spacy-legacy                       3.0.12\n",
        "spacy-loggers                      1.0.5\n",
        "spanner-graph-notebook             1.1.6\n",
        "Sphinx                             8.2.3\n",
        "sphinxcontrib-applehelp            2.0.0\n",
        "sphinxcontrib-devhelp              2.0.0\n",
        "sphinxcontrib-htmlhelp             2.1.0\n",
        "sphinxcontrib-jsmath               1.0.1\n",
        "sphinxcontrib-qthelp               2.0.0\n",
        "sphinxcontrib-serializinghtml      2.0.0\n",
        "SQLAlchemy                         2.0.40\n",
        "sqlglot                            25.20.2\n",
        "sqlparse                           0.5.3\n",
        "srsly                              2.5.1\n",
        "stanio                             0.5.1\n",
        "statsmodels                        0.14.4\n",
        "stringzilla                        3.12.3\n",
        "sympy                              1.13.1\n",
        "tables                             3.10.2\n",
        "tabulate                           0.9.0\n",
        "tbb                                2022.1.0\n",
        "tblib                              3.1.0\n",
        "tcmlib                             1.3.0\n",
        "tenacity                           9.1.2\n",
        "tensorboard                        2.18.0\n",
        "tensorboard-data-server            0.7.2\n",
        "tensorflow                         2.18.0\n",
        "tensorflow-datasets                4.9.8\n",
        "tensorflow_decision_forests        1.11.0\n",
        "blosc2                             3.2.1\n",
        "bokeh                              3.6.3\n",
        "Bottleneck                         1.4.2\n",
        "bqplot                             0.12.44\n",
        "branca                             0.8.1\n",
        "CacheControl                       0.14.2\n",
        "cachetools                         5.5.2\n",
        "catalogue                          2.0.10\n",
        "certifi                            2025.1.31\n",
        "cffi                               1.17.1\n",
        "chardet                            5.2.0\n",
        "charset-normalizer                 3.4.1\n",
        "chex                               0.1.89\n",
        "clarabel                           0.10.0\n",
        "click                              8.1.8\n",
        "cloudpathlib                       0.21.0\n",
        "cloudpickle                        3.1.1\n",
        "cmake                              3.31.6\n",
        "cmdstanpy                          1.2.5\n",
        "colorcet                           3.1.0\n",
        "colorlover                         0.3.0\n",
        "colour                             0.1.5\n",
        "community                          1.0.0b1\n",
        "confection                         0.1.5\n",
        "cons                               0.4.6\n",
        "contourpy                          1.3.1\n",
        "cramjam                            2.9.1\n",
        "cryptography                       43.0.3\n",
        "cuda-python                        12.6.2.post1\n",
        "cudf-cu12                          25.2.1\n",
        "cudf-polars-cu12                   25.2.2\n",
        "cufflinks                          0.17.3\n",
        "cuml-cu12                          25.2.1\n",
        "cupy-cuda12x                       13.3.0\n",
        "cuvs-cu12                          25.2.1\n",
        "cvxopt                             1.3.2\n",
        "cvxpy                              1.6.4\n",
        "cycler                             0.12.1\n",
        "cyipopt                            1.5.0\n",
        "cymem                              2.0.11\n",
        "Cython                             3.0.12\n",
        "dask                               2024.12.1\n",
        "dask-cuda                          25.2.0\n",
        "dask-cudf-cu12                     25.2.2\n",
        "dask-expr                          1.1.21\n",
        "datascience                        0.17.6\n",
        "db-dtypes                          1.4.2\n",
        "dbus-python                        1.2.18\n",
        "debugpy                            1.8.0\n",
        "decorator                          4.4.2\n",
        "defusedxml                         0.7.1\n",
        "Deprecated                         1.2.18\n",
        "diffusers                          0.32.2\n",
        "distributed                        2024.12.1\n",
        "distributed-ucxx-cu12              0.42.0\n",
        "distro                             1.9.0\n",
        "dlib                               19.24.6\n",
        "dm-tree                            0.1.9\n",
        "docker-pycreds                     0.4.0\n",
        "docstring_parser                   0.16\n",
        "docutils                           0.21.2\n",
        "dopamine_rl                        4.1.2\n",
        "duckdb                             1.2.1\n",
        "earthengine-api                    1.5.9\n",
        "easydict                           1.13\n",
        "editdistance                       0.8.1\n",
        "eerepr                             0.1.1\n",
        "einops                             0.8.1\n",
        "en_core_web_sm                     3.8.0\n",
        "entrypoints                        0.4\n",
        "et_xmlfile                         2.0.0\n",
        "etils                              1.12.2\n",
        "etuples                            0.3.9\n",
        "Farama-Notifications               0.0.4\n",
        "fastai                             2.7.19\n",
        "fastcore                           1.7.29\n",
        "fastdownload                       0.0.7\n",
        "fastjsonschema                     2.21.1\n",
        "fastprogress                       1.0.3\n",
        "fastrlock                          0.8.3\n",
        "filelock                           3.18.0\n",
        "firebase-admin                     6.7.0\n",
        "Flask                              3.1.0\n",
        "flatbuffers                        25.2.10\n",
        "flax                               0.10.5\n",
        "folium                             0.19.5\n",
        "fonttools                          4.57.0\n",
        "frozendict                         2.4.6\n",
        "frozenlist                         1.5.0\n",
        "fsspec                             2025.3.2\n",
        "future                             1.0.0\n",
        "gast                               0.6.0\n",
        "gcsfs                              2025.3.2\n",
        "GDAL                               3.6.4\n",
        "gdown                              5.2.0\n",
        "geemap                             0.35.3\n",
        "geocoder                           1.38.1\n",
        "geographiclib                      2.0\n",
        "geopandas                          1.0.1\n",
        "geopy                              2.4.1\n",
        "gin-config                         0.5.0\n",
        "gitdb                              4.0.12\n",
        "GitPython                          3.1.44\n",
        "glob2                              0.7\n",
        "google                             2.0.3\n",
        "google-ai-generativelanguage       0.6.15\n",
        "google-api-core                    2.24.2\n",
        "google-api-python-client           2.164.0\n",
        "google-auth                        2.38.0\n",
        "google-auth-httplib2               0.2.0\n",
        "google-auth-oauthlib               1.2.1\n",
        "google-cloud-aiplatform            1.87.0\n",
        "google-cloud-bigquery              3.31.0\n",
        "google-cloud-bigquery-connection   1.18.2\n",
        "google-cloud-bigquery-storage      2.30.0\n",
        "google-cloud-bigtable              2.30.0\n",
        "google-cloud-core                  2.4.3\n",
        "google-cloud-dataproc              5.18.1\n",
        "google-cloud-datastore             2.20.2\n",
        "google-cloud-firestore             2.20.1\n",
        "google-cloud-functions             1.20.2\n",
        "google-cloud-iam                   2.18.3\n",
        "google-cloud-language              2.17.1\n",
        "google-cloud-pubsub                2.29.0\n",
        "google-cloud-resource-manager      1.14.2\n",
        "google-cloud-spanner               3.53.0\n",
        "google-cloud-storage               2.19.0\n",
        "google-cloud-translate             3.20.2\n",
        "google-colab                       1.0.0\n",
        "google-crc32c                      1.7.1\n",
        "google-genai                       1.9.0\n",
        "google-generativeai                0.8.4\n",
        "google-pasta                       0.2.0\n",
        "google-resumable-media             2.7.2\n",
        "google-spark-connect               0.5.2\n",
        "googleapis-common-protos           1.69.2\n",
        "googledrivedownloader              1.1.0\n",
        "graphviz                           0.20.3\n",
        "greenlet                           3.1.1\n",
        "grpc-google-iam-v1                 0.14.2\n",
        "grpc-interceptor                   0.15.4\n",
        "grpcio                             1.71.0\n",
        "grpcio-status                      1.71.0\n",
        "grpclib                            0.4.7\n",
        "gspread                            6.2.0\n",
        "gspread-dataframe                  4.0.0\n",
        "gym                                0.25.2\n",
        "gym-notices                        0.0.8\n",
        "gymnasium                          1.1.1\n",
        "h11                                0.14.0\n",
        "h2                                 4.2.0\n",
        "h5netcdf                           1.6.1\n",
        "h5py                               3.13.0\n",
        "hdbscan                            0.8.40\n",
        "highspy                            1.9.0\n",
        "holidays                           0.69\n",
        "holoviews                          1.20.2\n",
        "hpack                              4.1.0\n",
        "html5lib                           1.1\n",
        "httpcore                           1.0.7\n",
        "httpimport                         1.4.1\n",
        "httplib2                           0.22.0\n",
        "httpx                              0.28.1\n",
        "huggingface-hub                    0.30.1\n",
        "humanize                           4.12.2\n",
        "hyperframe                         6.1.0\n",
        "hyperopt                           0.2.7\n",
        "ibis-framework                     9.5.0\n",
        "idna                               3.10\n",
        "imageio                            2.37.0\n",
        "imageio-ffmpeg                     0.6.0\n",
        "imagesize                          1.4.1\n",
        "imbalanced-learn                   0.13.0\n",
        "immutabledict                      4.2.1\n",
        "importlib_metadata                 8.6.1\n",
        "importlib_resources                6.5.2\n",
        "imutils                            0.5.4\n",
        "inflect                            7.5.0\n",
        "iniconfig                          2.1.0\n",
        "intel-cmplr-lib-ur                 2025.1.0\n",
        "intel-openmp                       2025.1.0\n",
        "ipyevents                          2.0.2\n",
        "ipyfilechooser                     0.6.0\n",
        "ipykernel                          6.17.1\n",
        "ipyleaflet                         0.19.2\n",
        "ipyparallel                        8.8.0\n",
        "ipython                            7.34.0\n",
        "ipython-genutils                   0.2.0\n",
        "ipython-sql                        0.5.0\n",
        "ipytree                            0.2.2\n",
        "ipywidgets                         7.7.1\n",
        "itsdangerous                       2.2.0\n",
        "jax                                0.5.2\n",
        "jax-cuda12-pjrt                    0.5.1\n",
        "jax-cuda12-plugin                  0.5.1\n",
        "jaxlib                             0.5.1\n",
        "jeepney                            0.7.1\n",
        "jellyfish                          1.1.0\n",
        "jieba                              0.42.1\n",
        "Jinja2                             3.1.6\n",
        "jiter                              0.9.0\n",
        "joblib                             1.4.2\n",
        "jsonpatch                          1.33\n",
        "jsonpickle                         4.0.5\n",
        "jsonpointer                        3.0.0\n",
        "jsonschema                         4.23.0\n",
        "jsonschema-specifications          2024.10.1\n",
        "jupyter-client                     6.1.12\n",
        "jupyter-console                    6.1.0\n",
        "jupyter_core                       5.7.2\n",
        "jupyter-leaflet                    0.19.2\n",
        "jupyter-server                     1.16.0\n",
        "jupyterlab_pygments                0.3.0\n",
        "jupyterlab_widgets                 3.0.13\n",
        "kaggle                             1.7.4.2\n",
        "kagglehub                          0.3.11\n",
        "keras                              3.8.0\n",
        "keras-hub                          0.18.1\n",
        "keras-nlp                          0.18.1\n",
        "keyring                            23.5.0\n",
        "kiwisolver                         1.4.8\n",
        "langchain                          0.3.23\n",
        "langchain-core                     0.3.51\n",
        "langchain-text-splitters           0.3.8\n",
        "langcodes                          3.5.0\n",
        "langsmith                          0.3.24\n",
        "language_data                      1.3.0\n",
        "launchpadlib                       1.10.16\n",
        "lazr.restfulclient                 0.14.4\n",
        "lazr.uri                           1.0.6\n",
        "lazy_loader                        0.4\n",
        "libclang                           18.1.1\n",
        "libcudf-cu12                       25.2.1\n",
        "libcugraph-cu12                    25.2.0\n",
        "libcuml-cu12                       25.2.1\n",
        "libcuvs-cu12                       25.2.1\n",
        "libkvikio-cu12                     25.2.1\n",
        "libraft-cu12                       25.2.0\n",
        "librosa                            0.11.0\n",
        "libucx-cu12                        1.18.0\n",
        "libucxx-cu12                       0.42.0\n",
        "lightgbm                           4.5.0\n",
        "linkify-it-py                      2.0.3\n",
        "llvmlite                           0.43.0\n",
        "locket                             1.0.0\n",
        "logical-unification                0.4.6\n",
        "lxml                               5.3.1\n",
        "Mako                               1.1.3\n",
        "marisa-trie                        1.2.1\n",
        "Markdown                           3.7\n",
        "markdown-it-py                     3.0.0\n",
        "MarkupSafe                         3.0.2\n",
        "matplotlib                         3.10.0\n",
        "matplotlib-inline                  0.1.7\n",
        "matplotlib-venn                    1.1.2\n",
        "mdit-py-plugins                    0.4.2\n",
        "mdurl                              0.1.2\n",
        "miniKanren                         1.0.3\n",
        "missingno                          0.5.2\n",
        "mistune                            3.1.3\n",
        "mizani                             0.13.2\n",
        "mkl                                2025.0.1\n",
        "ml-dtypes                          0.4.1\n",
        "mlxtend                            0.23.4\n",
        "more-itertools                     10.6.0\n",
        "moviepy                            1.0.3\n",
        "mpmath                             1.3.0\n",
        "msgpack                            1.1.0\n",
        "multidict                          6.3.2\n",
        "multipledispatch                   1.0.0\n",
        "multitasking                       0.0.11\n",
        "murmurhash                         1.0.12\n",
        "music21                            9.3.0\n",
        "namex                              0.0.8\n",
        "narwhals                           1.33.0\n",
        "natsort                            8.4.0\n",
        "nbclassic                          1.2.0\n",
        "nbclient                           0.10.2\n",
        "nbconvert                          7.16.6\n",
        "nbformat                           5.10.4\n",
        "ndindex                            1.9.2\n",
        "nest-asyncio                       1.6.0\n",
        "networkx                           3.4.2\n",
        "nibabel                            5.3.2\n",
        "nltk                               3.9.1\n",
        "notebook                           6.5.7\n",
        "notebook_shim                      0.2.4\n",
        "numba                              0.60.0\n",
        "numba-cuda                         0.2.0\n",
        "numexpr                            2.10.2\n",
        "numpy                              2.0.2\n",
        "nvidia-cublas-cu12                 12.5.3.2\n",
        "nvidia-cuda-cupti-cu12             12.5.82\n",
        "nvidia-cuda-nvcc-cu12              12.5.82\n",
        "nvidia-cuda-nvrtc-cu12             12.5.82\n",
        "nvidia-cuda-runtime-cu12           12.5.82\n",
        "nvidia-cudnn-cu12                  9.3.0.75\n",
        "nvidia-cufft-cu12                  11.2.3.61\n",
        "nvidia-curand-cu12                 10.3.6.82\n",
        "nvidia-cusolver-cu12               11.6.3.83\n",
        "nvidia-cusparse-cu12               12.5.1.3\n",
        "nvidia-cusparselt-cu12             0.6.2\n",
        "nvidia-ml-py                       12.570.86\n",
        "nvidia-nccl-cu12                   2.21.5\n",
        "nvidia-nvcomp-cu12                 4.2.0.11\n",
        "nvidia-nvjitlink-cu12              12.5.82\n",
        "nvidia-nvtx-cu12                   12.4.127\n",
        "nvtx                               0.2.11\n",
        "nx-cugraph-cu12                    25.2.0\n",
        "oauth2client                       4.1.3\n",
        "oauthlib                           3.2.2\n",
        "openai                             1.70.0\n",
        "opencv-contrib-python              4.11.0.86\n",
        "opencv-python                      4.11.0.86\n",
        "opencv-python-headless             4.11.0.86\n",
        "openpyxl                           3.1.5\n",
        "opentelemetry-api                  1.31.1\n",
        "opentelemetry-sdk                  1.31.1\n",
        "opentelemetry-semantic-conventions 0.52b1\n",
        "opt_einsum                         3.4.0\n",
        "optax                              0.2.4\n",
        "optree                             0.14.1\n",
        "orbax-checkpoint                   0.11.10\n",
        "orjson                             3.10.16\n",
        "osqp                               1.0.3\n",
        "packaging                          24.2\n",
        "pandas                             2.2.2\n",
        "pandas-datareader                  0.10.0\n",
        "pandas-gbq                         0.28.0\n",
        "pandas-stubs                       2.2.2.240909\n",
        "pandocfilters                      1.5.1\n",
        "panel                              1.6.2\n",
        "param                              2.2.0\n",
        "parso                              0.8.4\n",
        "parsy                              2.1\n",
        "partd                              1.4.2\n",
        "pathlib                            1.0.1\n",
        "patsy                              1.0.1\n",
        "peewee                             3.17.9\n",
        "peft                               0.14.0\n",
        "pexpect                            4.9.0\n",
        "pickleshare                        0.7.5\n",
        "pillow                             11.1.0\n",
        "pip                                24.1.2\n",
        "platformdirs                       4.3.7\n",
        "plotly                             5.24.1\n",
        "plotnine                           0.14.5\n",
        "pluggy                             1.5.0\n",
        "ply                                3.11\n",
        "polars                             1.21.0\n",
        "pooch                              1.8.2\n",
        "portpicker                         1.5.2\n",
        "preshed                            3.0.9\n",
        "prettytable                        3.16.0\n",
        "proglog                            0.1.11\n",
        "progressbar2                       4.5.0\n",
        "prometheus_client                  0.21.1\n",
        "promise                            2.3\n",
        "prompt_toolkit                     3.0.50\n",
        "propcache                          0.3.1\n",
        "prophet                            1.1.6\n",
        "proto-plus                         1.26.1\n",
        "protobuf                           5.29.4\n",
        "psutil                             5.9.5\n",
        "psycopg2                           2.9.10\n",
        "ptyprocess                         0.7.0\n",
        "py-cpuinfo                         9.0.0\n",
        "py4j                               0.10.9.7\n",
        "pyarrow                            18.1.0\n",
        "pyasn1                             0.6.1\n",
        "pyasn1_modules                     0.4.2\n",
        "pycairo                            1.27.0\n",
        "pycocotools                        2.0.8\n",
        "pycparser                          2.22\n",
        "pydantic                           2.11.2"
      ],
      "metadata": {
        "id": "REYsDRqHM6hN"
      },
      "execution_count": null,
      "outputs": []
    },
    {
      "cell_type": "markdown",
      "source": [
        "### Importando una biblioteca"
      ],
      "metadata": {
        "id": "A76TbnDbDehe"
      }
    },
    {
      "cell_type": "code",
      "source": [],
      "metadata": {
        "id": "_xUxLlZFM728"
      },
      "execution_count": null,
      "outputs": []
    },
    {
      "cell_type": "code",
      "source": [],
      "metadata": {
        "id": "xy035zQzM75b"
      },
      "execution_count": null,
      "outputs": []
    },
    {
      "cell_type": "markdown",
      "source": [
        "## 1.2 Utilizando módulos/bibliotecas\n",
        "\n",
        "- Documentación de Python (https://docs.python.org/es/3/)"
      ],
      "metadata": {
        "id": "oMxkV9-6GXwH"
      }
    },
    {
      "cell_type": "code",
      "source": [
        "from matplotlib import pyplot as plt\n",
        "import random\n",
        "from random import choice"
      ],
      "metadata": {
        "id": "iMGNX8wSS5TW"
      },
      "execution_count": null,
      "outputs": []
    },
    {
      "cell_type": "markdown",
      "source": [
        "#### Ejemplo 1: Vamos a probar la biblioteca Matplotlib para un ejemplo sobre el cálculo de los promedios de notas de los estudiantes de una clase.\n",
        "\n",
        "(https://matplotlib.org/stable/tutorials/introductory/pyplot.html)"
      ],
      "metadata": {
        "id": "W1MHaXB2Q7tT"
      }
    },
    {
      "cell_type": "code",
      "source": [],
      "metadata": {
        "id": "hme-WlDYM-Od"
      },
      "execution_count": null,
      "outputs": []
    },
    {
      "cell_type": "code",
      "source": [],
      "metadata": {
        "id": "mv1h3vJsM-RK"
      },
      "execution_count": null,
      "outputs": []
    },
    {
      "cell_type": "code",
      "source": [],
      "metadata": {
        "id": "GK77H828M-Zk"
      },
      "execution_count": null,
      "outputs": []
    },
    {
      "cell_type": "markdown",
      "source": [
        "#### Ejemplo 2: Vamos a seleccionar aleatoriamente a un alumno para presentar su trabajo de ciencia de datos usando la biblioteca `random`.\n",
        "\n",
        "(https://docs.python.org/es/3/library/random.html)"
      ],
      "metadata": {
        "id": "5G6u4ZRYRIFZ"
      }
    },
    {
      "cell_type": "code",
      "source": [],
      "metadata": {
        "id": "Y4o2AvhWNBdM"
      },
      "execution_count": null,
      "outputs": []
    },
    {
      "cell_type": "code",
      "source": [],
      "metadata": {
        "id": "9fXfsVnANBiG"
      },
      "execution_count": null,
      "outputs": []
    },
    {
      "cell_type": "markdown",
      "source": [
        "<font color=green>**Tip:**</font> Podrás notar a medida que avanzas en los ejercicios la importancia de acudir a la documentación para aprender cómo utilizar un método de algún módulo en el lenguaje Python.\n",
        "\n",
        "El método `help()`, por ejemplo, retorna una descripción sobre una variable, método o clase.\n",
        "\n",
        "https://docs.python.org/es/3/library/functions.html?#help"
      ],
      "metadata": {
        "id": "N-XJrnISGpTN"
      }
    },
    {
      "cell_type": "markdown",
      "source": [
        "**EJERCICIOS**"
      ],
      "metadata": {
        "id": "4JnBmFfBdR5J"
      }
    },
    {
      "cell_type": "markdown",
      "source": [
        "1 - Escribe un código para instalar la versión 3.7.1 de la biblioteca matplotlib.\n",
        "\n"
      ],
      "metadata": {
        "id": "Hxs2ovIZdWcP"
      }
    },
    {
      "cell_type": "code",
      "source": [
        "¡pip install matplotlib==3.7.1"
      ],
      "metadata": {
        "id": "L_I1Ybpxddnb"
      },
      "execution_count": null,
      "outputs": []
    },
    {
      "cell_type": "markdown",
      "source": [
        "2 - Escribe un código para importar la biblioteca numpy con el alias np.\n",
        "\n"
      ],
      "metadata": {
        "id": "EF63zwlQdfEi"
      }
    },
    {
      "cell_type": "code",
      "source": [
        "from numpy import *\n",
        "import numpy as np"
      ],
      "metadata": {
        "id": "qdLgkagtdin1"
      },
      "execution_count": null,
      "outputs": []
    },
    {
      "cell_type": "markdown",
      "source": [
        "3 - Crea un programa que lea la siguiente lista de números y elija uno al azar.\n",
        "\n",
        "lista = [8, 12, 54, 23, 43, 1, 90, 87, 105, 77]"
      ],
      "metadata": {
        "id": "ZYewFCKOdlTv"
      }
    },
    {
      "cell_type": "code",
      "source": [
        "import random\n",
        "lista = [8, 12, 54, 23, 43, 1, 90, 87, 105, 77]\n",
        "print(random.choice(lista))"
      ],
      "metadata": {
        "colab": {
          "base_uri": "https://localhost:8080/"
        },
        "id": "54clSFU_doky",
        "outputId": "7dfe61fd-8844-40fe-f46a-230d4e00eaba"
      },
      "execution_count": null,
      "outputs": [
        {
          "output_type": "stream",
          "name": "stdout",
          "text": [
            "23\n"
          ]
        }
      ]
    },
    {
      "cell_type": "markdown",
      "source": [
        "4 - Crea un programa que genere aleatoriamente un número entero menor que 100.\n",
        "\n"
      ],
      "metadata": {
        "id": "vVLwbJJBduZe"
      }
    },
    {
      "cell_type": "code",
      "source": [
        "import random\n",
        "print(random.randrange(100))"
      ],
      "metadata": {
        "colab": {
          "base_uri": "https://localhost:8080/"
        },
        "id": "3zUabjARdwwT",
        "outputId": "4e6947f6-0bdc-4040-ad44-ffa1c776372b"
      },
      "execution_count": null,
      "outputs": [
        {
          "output_type": "stream",
          "name": "stdout",
          "text": [
            "73\n"
          ]
        }
      ]
    },
    {
      "cell_type": "markdown",
      "source": [
        "5 - Crea un programa que solicite a la persona usuaria ingresar dos números enteros y calcule la potencia del primer número elevado al segundo.\n",
        "\n"
      ],
      "metadata": {
        "id": "NJTDM1eXdxcn"
      }
    },
    {
      "cell_type": "code",
      "source": [
        "numero1 = int(input(\"Ingrese un número entero: \"))\n",
        "numero2 = int(input(\"Ingrese la potencia: \"))\n",
        "potencia = numero1 ** numero2\n",
        "print(f\"La potencia de {numero1} elevado a {numero2} es: {potencia}\")"
      ],
      "metadata": {
        "colab": {
          "base_uri": "https://localhost:8080/"
        },
        "id": "kj7E7jzOd0-e",
        "outputId": "01d05bf3-a539-433d-a308-f3acf52b05aa"
      },
      "execution_count": null,
      "outputs": [
        {
          "output_type": "stream",
          "name": "stdout",
          "text": [
            "Ingrese un número entero: 5\n",
            "Ingrese la potencia: 5\n",
            "La potencia de 5 elevado a 5 es: 3125\n"
          ]
        }
      ]
    },
    {
      "cell_type": "markdown",
      "source": [
        "6 - Se debe escribir un programa para sortear a un seguidor de una red social para ganar un premio. La lista de participantes está numerada y debemos elegir aleatoriamente un número según la cantidad de participantes. Pide a la persona usuaria que proporcione el número de participantes del sorteo y devuelve el número sorteado."
      ],
      "metadata": {
        "id": "O2mk5sxGd4-M"
      }
    },
    {
      "cell_type": "code",
      "source": [
        "import random\n",
        "numero_participantes = int(input(\"Ingrese el número de participantes: \"))\n",
        "ganador = random.randint(1, numero_participantes)\n",
        "print(f\"El participante ganador es: {ganador}\")"
      ],
      "metadata": {
        "colab": {
          "base_uri": "https://localhost:8080/"
        },
        "id": "xNoYX61Od9W6",
        "outputId": "d78e6fa3-19e4-4385-c143-fea2465b944b"
      },
      "execution_count": null,
      "outputs": [
        {
          "output_type": "stream",
          "name": "stdout",
          "text": [
            "Ingrese el número de participantes: 600\n",
            "El participante ganador es: 328\n"
          ]
        }
      ]
    },
    {
      "cell_type": "markdown",
      "source": [
        "7 - Has recibido una solicitud para generar números de token para acceder a la aplicación de una empresa. El token debe ser par y variar de 1000 a 9998. Escribe un código que solicite el nombre de la persona usuaria y muestre un mensaje junto a este token generado aleatoriamente.\n",
        "\n",
        "print(f\"Hola, {nombre_usuario}, tu token de acceso es {token_generado} ¡Bienvenido/a!\")"
      ],
      "metadata": {
        "id": "Tf9_nQ04d-Og"
      }
    },
    {
      "cell_type": "code",
      "source": [
        "import random\n",
        "nombre_usuario = input(\"Ingrese su nombre: \")\n",
        "token = random.randrange(1000, 9999, 2)\n",
        "print(f\"Hola, {nombre_usuario}, tu token de acceso es {token} ¡Bienvenido/a!\")\n"
      ],
      "metadata": {
        "colab": {
          "base_uri": "https://localhost:8080/"
        },
        "id": "dn2nbn0heGfV",
        "outputId": "8502e250-f9fb-4963-c418-fb5c62b55c13"
      },
      "execution_count": null,
      "outputs": [
        {
          "output_type": "stream",
          "name": "stdout",
          "text": [
            "Ingrese su nombre: mauricio\n",
            "Hola, mauricio, tu token de acceso es 3112 ¡Bienvenido/a!\n"
          ]
        }
      ]
    },
    {
      "cell_type": "markdown",
      "source": [
        "8 - Para diversificar y atraer nuevos clientes, una lanchonete creó un ítem misterioso en su menú llamado \"ensalada de frutas sorpresa\". En este ítem, se eligen aleatoriamente 3 frutas de una lista de 12 para componer la ensalada de frutas del cliente. Crea el código que realice esta selección aleatoria según la lista dada.\n",
        "\n",
        "frutas = [\"manzana\", \"banana\", \"uva\", \"pera\", \"mango\", \"coco\", \"sandia\", \"fresa\", \"naranja\", \"maracuya\", \"kiwi\", \"cereza\"]"
      ],
      "metadata": {
        "id": "-JN2bIuveHRu"
      }
    },
    {
      "cell_type": "code",
      "source": [
        "import random\n",
        "frutas = [\"manzana\", \"banana\", \"uva\", \"pera\", \"mango\", \"coco\", \"sandia\", \"fresa\", \"naranja\", \"maracuya\", \"kiwi\", \"cereza\"]\n",
        "ensalada = random.sample(frutas, 3)\n",
        "print(f\"La ensalada de frutas sorpresa es: {ensalada}\")"
      ],
      "metadata": {
        "id": "8tkpb-AaqpxB",
        "outputId": "71ed5971-8142-4d41-b8bb-3a62a9b7a57b",
        "colab": {
          "base_uri": "https://localhost:8080/"
        }
      },
      "execution_count": null,
      "outputs": [
        {
          "output_type": "stream",
          "name": "stdout",
          "text": [
            "La ensalada de frutas sorpresa es: ['kiwi', 'coco', 'sandia']\n"
          ]
        }
      ]
    },
    {
      "cell_type": "markdown",
      "source": [
        "9 - Has recibido un desafío para calcular la raíz cuadrada de una lista de números, identificando cuáles resultan en un número entero. La lista es la siguiente:\n",
        "\n",
        "numeros = [2, 8, 15, 23, 91, 112, 256]"
      ],
      "metadata": {
        "id": "arnBR66WeQnU"
      }
    },
    {
      "cell_type": "code",
      "source": [
        "import math\n",
        "numeros = [2, 8, 15, 23, 91, 112, 256]\n",
        "for numero in numeros:\n",
        "    raiz = math.sqrt(numero)\n",
        "    if raiz.is_integer():\n",
        "        print(f\"La raíz cuadrada de {numero} es un número entero.\")\n",
        "    else:\n",
        "        print(f\"La raíz cuadrada de {numero} no es un número entero.\")\n",
        "\n"
      ],
      "metadata": {
        "colab": {
          "base_uri": "https://localhost:8080/"
        },
        "id": "2iV4dzdFeUMz",
        "outputId": "2dd43349-cac4-447a-c0df-565c636007c4"
      },
      "execution_count": null,
      "outputs": [
        {
          "output_type": "stream",
          "name": "stdout",
          "text": [
            "La raíz cuadrada de 2 no es un número entero.\n",
            "La raíz cuadrada de 8 no es un número entero.\n",
            "La raíz cuadrada de 15 no es un número entero.\n",
            "La raíz cuadrada de 23 no es un número entero.\n",
            "La raíz cuadrada de 91 no es un número entero.\n",
            "La raíz cuadrada de 112 no es un número entero.\n",
            "La raíz cuadrada de 256 es un número entero.\n"
          ]
        }
      ]
    },
    {
      "cell_type": "markdown",
      "source": [
        "10 - Haz un programa para una tienda que vende césped para jardines. Esta tienda trabaja con jardines circulares y el precio del metro cuadrado de césped es de R$ 25,00. Pide a la persona usuaria el radio del área circular y devuelve el valor en reales de cuánto tendrá que pagar."
      ],
      "metadata": {
        "id": "NNZxf8bMeVC_"
      }
    },
    {
      "cell_type": "code",
      "source": [
        "import math\n",
        "radio_jardin = float(input(\"Ingrese el radio del área circular: \"))\n",
        "precio_metro_cuadrado = 25.00\n",
        "area_jardin = math.pi * radio_jardin ** 2\n",
        "precio_total = area_jardin * precio_metro_cuadrado\n",
        "print(f\"El precio total a pagar es: R${precio_total:.2f}\")"
      ],
      "metadata": {
        "colab": {
          "base_uri": "https://localhost:8080/"
        },
        "id": "Pupl5hkseZMZ",
        "outputId": "88ff2ce0-ea9b-434b-e8ff-9ffaf3e0f3fd"
      },
      "execution_count": null,
      "outputs": [
        {
          "output_type": "stream",
          "name": "stdout",
          "text": [
            "Ingrese el radio del área circular: 6\n",
            "El precio total a pagar es: R$2827.43\n"
          ]
        }
      ]
    },
    {
      "cell_type": "code",
      "source": [],
      "metadata": {
        "id": "H81fn7lFeKkW"
      },
      "execution_count": null,
      "outputs": []
    },
    {
      "cell_type": "code",
      "source": [],
      "metadata": {
        "id": "a2zJCXNUND9X"
      },
      "execution_count": null,
      "outputs": []
    },
    {
      "cell_type": "code",
      "source": [],
      "metadata": {
        "id": "2Yvr71PIND_r"
      },
      "execution_count": null,
      "outputs": []
    },
    {
      "cell_type": "code",
      "source": [],
      "metadata": {
        "id": "UFfZz4CxNGjU"
      },
      "execution_count": null,
      "outputs": []
    },
    {
      "cell_type": "markdown",
      "source": [
        "## <font color=green> 2. FUNCIONES\n",
        "---"
      ],
      "metadata": {
        "id": "2hrSPmlcBwWS"
      }
    },
    {
      "cell_type": "markdown",
      "source": [
        "En Python, las **funciones** son secuencias de instrucciones que ejecutan tareas específicas, permitiendo su reutilización en diferentes partes del código. Estas pueden recibir parámetros de entrada (que también los conocemos como *inputs*) y también retornar resultados."
      ],
      "metadata": {
        "id": "gC4lHsW-DREY"
      }
    },
    {
      "cell_type": "markdown",
      "source": [
        "## 2.1 Built-in function (Función Incorporada)\n",
        "\n",
        "El interpretador de Python contiene una serie de funciones incorporadas que pueden ser invocadas es cualquier momento. Algunas que vamos a utilizar a lo largo de este curso son: `type()`, `print()`, `list()`, `zip()`, `sum()`, `map()`, etc.\n",
        "\n",
        "***Documentación:***\n",
        "https://docs.python.org/es/3/library/functions.html\n"
      ],
      "metadata": {
        "id": "Qr_h1_UNEzHZ"
      }
    },
    {
      "cell_type": "markdown",
      "source": [
        "#### **Situación 1:**\n",
        "\n",
        "La institución educativa para la cual nos encontramos trabajando compartió los datos de las notas de un estudiante para que pudiesemos calcular su promedio con una casilla decimal.\n",
        "\n",
        "Los datos recibidos corresponden a un diccionario cuyas llaves indican el trimestre en cuestión y sus valores corresponden a las notas de cada trimestre del estudiante en una respectiva materia."
      ],
      "metadata": {
        "id": "MMOJIW3TyLIB"
      }
    },
    {
      "cell_type": "code",
      "source": [],
      "metadata": {
        "id": "WQ-pCgdaMOlc"
      },
      "execution_count": null,
      "outputs": []
    },
    {
      "cell_type": "code",
      "source": [],
      "metadata": {
        "id": "GU-HvC-QMOoS"
      },
      "execution_count": null,
      "outputs": []
    },
    {
      "cell_type": "code",
      "source": [],
      "metadata": {
        "id": "qKEyjY2bMOqj"
      },
      "execution_count": null,
      "outputs": []
    },
    {
      "cell_type": "markdown",
      "source": [
        "*Redondear el promedio usando round():*\n",
        "\n",
        "https://docs.python.org/es/3/library/functions.html#round"
      ],
      "metadata": {
        "id": "JD2z3LW8312E"
      }
    },
    {
      "cell_type": "code",
      "source": [],
      "metadata": {
        "id": "c7Cn5XFfMP5E"
      },
      "execution_count": null,
      "outputs": []
    },
    {
      "cell_type": "code",
      "source": [],
      "metadata": {
        "id": "eVNPFr0pMRWl"
      },
      "execution_count": null,
      "outputs": []
    },
    {
      "cell_type": "markdown",
      "source": [
        "## 2.2 Creando funciones"
      ],
      "metadata": {
        "id": "NCUSezOJIdfy"
      }
    },
    {
      "cell_type": "markdown",
      "source": [
        "Tras explorar las funciones incorporadas y aprender cómo utilizar algunas de ellas, es posible que tengas la necesidad de resolver un problema específico y estas no sean suficientes.\n",
        "\n",
        "Por este motivo, necesitaremos crear nuestras propias funciones, y aún más, si necesitamos aplicarlas en varias partes de nuestros códigos."
      ],
      "metadata": {
        "id": "QrTAXwghsg6s"
      }
    },
    {
      "cell_type": "markdown",
      "source": [
        "### Funciones sin parámetros\n",
        "\n",
        "#### Formato estándar:\n",
        "\n",
        "```python\n",
        "def <nombre>():\n",
        "  <instrucciones>\n",
        "```"
      ],
      "metadata": {
        "id": "zxyXiX462A_X"
      }
    },
    {
      "cell_type": "code",
      "source": [],
      "metadata": {
        "id": "WgWoULpnMSrT"
      },
      "execution_count": null,
      "outputs": []
    },
    {
      "cell_type": "code",
      "source": [],
      "metadata": {
        "id": "VKfg0zkDMStp"
      },
      "execution_count": null,
      "outputs": []
    },
    {
      "cell_type": "code",
      "source": [],
      "metadata": {
        "id": "04YIHBu-MTNB"
      },
      "execution_count": null,
      "outputs": []
    },
    {
      "cell_type": "markdown",
      "source": [
        "### Funciones con parámetros\n",
        "\n",
        "#### Formato estándar:\n",
        "\n",
        "```python\n",
        "def <nombre>(<param_1>, <param_2>, ..., <param_n>):\n",
        "  <instrucciones>\n",
        "```"
      ],
      "metadata": {
        "id": "o9AR_DNDFKSD"
      }
    },
    {
      "cell_type": "code",
      "source": [],
      "metadata": {
        "id": "1QHJXCYsMUx3"
      },
      "execution_count": null,
      "outputs": []
    },
    {
      "cell_type": "code",
      "source": [],
      "metadata": {
        "id": "txkkIwheMU0n"
      },
      "execution_count": null,
      "outputs": []
    },
    {
      "cell_type": "code",
      "source": [],
      "metadata": {
        "id": "Pq88ApQEMWK9"
      },
      "execution_count": null,
      "outputs": []
    },
    {
      "cell_type": "markdown",
      "source": [
        "#### **Situación 2:**\n",
        "\n",
        "Recibimos una solicitud para crear una función que calcule el promedio de notas de un estudiante a partir de una lista; que permita alterar la cantidad de notas, y que no implique tener que modificar la función.\n",
        "\n",
        "Los datos recibidos, en esta ocasión, corresponden a una lista que contiene las notas de un mismo estudiante en una determinada materia.\n",
        "\n",
        "notas = 8.5, 9.0, 6.0, 10.0\n",
        "\n",
        "**¿Vamos a resolver este desafío?**\n",
        "\n",
        "Para facilitar nuestra comprensión del proceso, vamos a aplicar las notas de un único estudiante; sin embargo, puedes probar otros casos para practicar."
      ],
      "metadata": {
        "id": "-Umx7n134suz"
      }
    },
    {
      "cell_type": "code",
      "source": [
        "notas = [8.5, 9.0, 6.0, 10.0]"
      ],
      "metadata": {
        "id": "U4MlTO9ucAKc"
      },
      "execution_count": null,
      "outputs": []
    },
    {
      "cell_type": "code",
      "source": [
        "def promedio(lista):"
      ],
      "metadata": {
        "id": "ZrqyDBNFMYOK"
      },
      "execution_count": null,
      "outputs": []
    },
    {
      "cell_type": "code",
      "source": [],
      "metadata": {
        "id": "wEkixagwMY2E"
      },
      "execution_count": null,
      "outputs": []
    },
    {
      "cell_type": "code",
      "source": [],
      "metadata": {
        "id": "60Gvxd9tMa5d"
      },
      "execution_count": null,
      "outputs": []
    },
    {
      "cell_type": "markdown",
      "source": [
        "<font color=red>**Atención!**</font>\n",
        "Cuando utilizamos funciones, necesitamos prestar atención a una propiedad llamada **Alcance de una función**. Esta propiedad determina dónde una variable puede ser utilizada dentro del código. Por ejemplo, una variable creada dentro de una función existirá únicamente dentro de esta función. O sea, cuando finaliza la ejecución de una función, la variable no estará disponible para el usuario en el resto del código."
      ],
      "metadata": {
        "id": "skMq7d0_xHND"
      }
    },
    {
      "cell_type": "code",
      "source": [],
      "metadata": {
        "id": "yTOqJSgsMbdJ"
      },
      "execution_count": null,
      "outputs": []
    },
    {
      "cell_type": "markdown",
      "source": [
        "## 2.3 Funciones que retornan valores\n",
        "\n",
        "#### Formato estándar:\n",
        "\n",
        "```python\n",
        "def <nombre>(<param_1>, <param_2>, ..., <param_n>):\n",
        "  <instrucciones>\n",
        "  return resultado\n",
        "```"
      ],
      "metadata": {
        "id": "-oDFGKcA52kG"
      }
    },
    {
      "cell_type": "markdown",
      "source": [
        "Retomando la actividad anterior, podemos retornar y guardar el valor del promedio de la siguiente forma:"
      ],
      "metadata": {
        "id": "DxvT_uItbQ-q"
      }
    },
    {
      "cell_type": "code",
      "source": [
        "# Notas del estudiante\n",
        "notas = [8.5, 9.0, 6.0, 10.0]"
      ],
      "metadata": {
        "id": "GlWdnX7Ubgl3"
      },
      "execution_count": null,
      "outputs": []
    },
    {
      "cell_type": "code",
      "source": [],
      "metadata": {
        "id": "JdMFsT9GMgI6"
      },
      "execution_count": null,
      "outputs": []
    },
    {
      "cell_type": "code",
      "source": [],
      "metadata": {
        "id": "p7AwNnTCMgLf"
      },
      "execution_count": null,
      "outputs": []
    },
    {
      "cell_type": "code",
      "source": [],
      "metadata": {
        "id": "35zC247QMgRP"
      },
      "execution_count": null,
      "outputs": []
    },
    {
      "cell_type": "code",
      "source": [],
      "metadata": {
        "id": "TjmB8IWpMgV4"
      },
      "execution_count": null,
      "outputs": []
    },
    {
      "cell_type": "markdown",
      "source": [
        "#### **Situación 3:**\n",
        "\n",
        "Recibimos una nueva solicitud. Debemos calcular el promedio de un estudiante a partir de una lista y retornar tanto el promedio como la situación del estudiante (\"Aprobado(a)\" si la nota es mayor o igual a 7.0, en caso contrario, será \"Reprobado(a)\").\n",
        "\n",
        "Además de ello, necesitamos exhibir un pequeño texto para indicar el promedio del estudiante y cuál es su situación. Los datos recibidos corresponden a una lista que contiene apenas las notas de un estudiante en una materia determinada.\n",
        "\n",
        "**¿Vamos a resolver este desafío?**\n",
        "\n",
        "Para facilitar nuestra comprensión del proceso, vamos a aplicar las notas de un único estudiante; sin embargo, puedes probar otros casos para practicar."
      ],
      "metadata": {
        "id": "_awyOKOH8OOi"
      }
    },
    {
      "cell_type": "code",
      "source": [
        "# Notas del estudiante\n",
        "notas = [8.5, 9.0, 6.0, 10.0]"
      ],
      "metadata": {
        "id": "3saGo2kDf0BY"
      },
      "execution_count": null,
      "outputs": []
    },
    {
      "cell_type": "code",
      "source": [],
      "metadata": {
        "id": "unNLrdFjMjbv"
      },
      "execution_count": null,
      "outputs": []
    },
    {
      "cell_type": "code",
      "source": [],
      "metadata": {
        "id": "Rmvg4hNeMjeD"
      },
      "execution_count": null,
      "outputs": []
    },
    {
      "cell_type": "code",
      "source": [],
      "metadata": {
        "id": "jCYuFpmeMji6"
      },
      "execution_count": null,
      "outputs": []
    },
    {
      "cell_type": "code",
      "source": [],
      "metadata": {
        "id": "hSht0Z2cMjlT"
      },
      "execution_count": null,
      "outputs": []
    },
    {
      "cell_type": "code",
      "source": [],
      "metadata": {
        "id": "tLdjCulMMjnD"
      },
      "execution_count": null,
      "outputs": []
    },
    {
      "cell_type": "markdown",
      "source": [
        "## 2.4 Funciones lambda\n",
        "\n",
        "También se conocen como funciones anónimas, son funciones que no necesitan ser definidas, o sea, no poseen un nombre, y describen en una única fila los comandos que deseamos aplicar.\n",
        "\n",
        "https://docs.python.org/es/3/reference/expressions.html?#lambda\n",
        "\n",
        "#### Formato estándar:\n",
        "\n",
        "```python\n",
        "lambda <variable>: <expresion>\n",
        "```"
      ],
      "metadata": {
        "id": "hwYYRpkZMft5"
      }
    },
    {
      "cell_type": "code",
      "source": [],
      "metadata": {
        "id": "wcNxDJoPMmTJ"
      },
      "execution_count": null,
      "outputs": []
    },
    {
      "cell_type": "code",
      "source": [],
      "metadata": {
        "id": "S-baAoaQMmVy"
      },
      "execution_count": null,
      "outputs": []
    },
    {
      "cell_type": "markdown",
      "source": [
        "#### **Situación 4:**\n",
        "\n",
        "En esta nueva solicitud, necesitamos crear una calculadora simple para obtener el promedio ponderado de notas de una materia determinada. Vamos a pedir que el usuario introduzca 3 notas (N1, N2, N3) del estudiante y devuelva el promedio ponderado de este estudiante. Los pesos de las notas son de, respectivamente 3, 2 y 5.\n",
        "\n",
        "Necesitamos exhibir un pequeño texto para poder indicar el promedio del estudiante.\n",
        "**¿Vamos a resolver este desafío?**\n"
      ],
      "metadata": {
        "id": "AuRWyNXYgD_b"
      }
    },
    {
      "cell_type": "markdown",
      "source": [
        "**Resolviendo nuestro problema:**"
      ],
      "metadata": {
        "id": "vdKk3DRBmtUE"
      }
    },
    {
      "cell_type": "code",
      "source": [],
      "metadata": {
        "id": "6YxEn9aiMnYJ"
      },
      "execution_count": null,
      "outputs": []
    },
    {
      "cell_type": "code",
      "source": [],
      "metadata": {
        "id": "Ptn9gQaPMnaz"
      },
      "execution_count": null,
      "outputs": []
    },
    {
      "cell_type": "markdown",
      "source": [
        "#### **Situación 5:**\n",
        "\n",
        "Ahora, debemos crear una pequeña función que permita dar una nota cualitativa (puntaje extra) a las notas del trimestre de los estudiantes del grupo que ganó el concurso de programación realizado en la institución. Cada estudiante recibirá el cualitativo de 0.5 añadido al promedio.\n",
        "\n",
        "Los datos recibidos corresponden a una lista que contiene las notas de algunos estudiantes y una variable con el cualitativo recibido.\n",
        "\n",
        "**¿Vamos a resolver este desafío?**\n",
        "\n",
        "Para facilitar nuestra comprensión del proceso, vamos a aplicar las notas de 5 estudiantes; sin embargo, puedes probar otros casos para practicar."
      ],
      "metadata": {
        "id": "1qk0gLdfFcbf"
      }
    },
    {
      "cell_type": "code",
      "source": [
        "# Notas del estudiante\n",
        "notas = [6.0, 7.0, 9.0, 5.5, 8.0]\n",
        "cualitativo = 0.5"
      ],
      "metadata": {
        "id": "RdoaWhuVI_OB"
      },
      "execution_count": null,
      "outputs": []
    },
    {
      "cell_type": "code",
      "source": [],
      "metadata": {
        "id": "PzDfbv-kMq2t"
      },
      "execution_count": null,
      "outputs": []
    },
    {
      "cell_type": "code",
      "source": [],
      "metadata": {
        "id": "3YDQ39wFMq5u"
      },
      "execution_count": null,
      "outputs": []
    },
    {
      "cell_type": "markdown",
      "source": [
        "### Mapeando valores\n",
        "\n",
        "#### Formato estándar:\n",
        "\n",
        "```python\n",
        "map(<lambda function>, <iterador>)\n",
        "```"
      ],
      "metadata": {
        "id": "SOK4BC4mmKbG"
      }
    },
    {
      "cell_type": "markdown",
      "source": [
        "EJERCICIOS"
      ],
      "metadata": {
        "id": "IiitN82mmOZl"
      }
    },
    {
      "cell_type": "markdown",
      "source": [
        "Escribe un código que lee la lista siguiente y realiza:\n",
        "\n",
        "lista = [16, 14, 63, 65, 17, 99, 70, 11, 20, 48, 79, 32, 17, 89, 12, 25, 66]\n",
        "1. Leer el tamaño de la lista\n",
        "2. Leer el valor máximo y mínimo\n",
        "3. Calcular la suma de los valores de la lista\n",
        "4. Mostrar un mensaje al final: La lista tiene `tamano` números, donde el mayor\n",
        " es `mayor` y el menor es `menor`. La suma de los valores es `suma`."
      ],
      "metadata": {
        "id": "lOb0a3WCmQwM"
      }
    },
    {
      "cell_type": "code",
      "source": [
        "lista = [16, 14, 63, 65, 17, 99, 70, 11, 20, 48, 79, 32, 17, 89, 12, 25, 66]\n",
        "print(f\"El tamaño de la lista es de: {len(lista)} números, donde el mayor es {max(lista)} y el menor es {min(lista)}. La suma de los valores es {sum(lista)}.\")"
      ],
      "metadata": {
        "colab": {
          "base_uri": "https://localhost:8080/"
        },
        "id": "780Q3SF_mXj8",
        "outputId": "00a79533-d008-48e7-b94a-0756b58536f0"
      },
      "execution_count": null,
      "outputs": [
        {
          "output_type": "stream",
          "name": "stdout",
          "text": [
            "El tamaño de la lista es de: 17 números, donde el mayor es 99 y el menor es 11. La suma de los valores es 743.\n"
          ]
        }
      ]
    },
    {
      "cell_type": "markdown",
      "source": [
        "2 - Escribe una función que genere la tabla de multiplicar de un número entero del 1 al 10, según la elección del usuario. Como ejemplo, para el número 7, la tabla de multiplicar se debe mostrar en el siguiente formato:\n",
        "\n",
        " Tabla del  7:\n",
        " 7 x 0 = 0\n",
        " 7 x 1 = 7\n",
        " [...]\n",
        " 7 x 10 = 70"
      ],
      "metadata": {
        "id": "kxtAUxh9mY11"
      }
    },
    {
      "cell_type": "code",
      "source": [
        "numero_tabla = int(input(\"Ingrese el número de la tabla de multiplicar: \"))\n",
        "for i in range(11):\n",
        "    print(f\"{numero_tabla} x {i} = {numero_tabla * i}\")"
      ],
      "metadata": {
        "colab": {
          "base_uri": "https://localhost:8080/"
        },
        "id": "Im-0Jp1wmdgz",
        "outputId": "55b3e626-838f-46e2-bd5e-7b0cf56bf043"
      },
      "execution_count": null,
      "outputs": [
        {
          "output_type": "stream",
          "name": "stdout",
          "text": [
            "Ingrese el número de la tabla de multiplicar: 7\n",
            "7 x 0 = 0\n",
            "7 x 1 = 7\n",
            "7 x 2 = 14\n",
            "7 x 3 = 21\n",
            "7 x 4 = 28\n",
            "7 x 5 = 35\n",
            "7 x 6 = 42\n",
            "7 x 7 = 49\n",
            "7 x 8 = 56\n",
            "7 x 9 = 63\n",
            "7 x 10 = 70\n"
          ]
        }
      ]
    },
    {
      "cell_type": "markdown",
      "source": [
        "3 - Crea una función que lea la siguiente lista y devuelva una nueva lista con los múltiplos de 3:\n",
        "\n",
        "[97, 80, 94, 88, 80, 1, 16, 53, 62, 32, 24, 99]"
      ],
      "metadata": {
        "id": "196bsoRWmekf"
      }
    },
    {
      "cell_type": "code",
      "source": [
        "lista_ejercicio3 = [97, 80, 94, 88, 80, 1, 16, 53, 62, 32, 24, 99]\n",
        "for numero in lista_ejercicio3:\n",
        "    if numero % 3 == 0:\n",
        "        print(numero)"
      ],
      "metadata": {
        "colab": {
          "base_uri": "https://localhost:8080/"
        },
        "id": "gud9poMTmhrM",
        "outputId": "588f2fee-33a4-4549-f7b6-2acc4d2add57"
      },
      "execution_count": null,
      "outputs": [
        {
          "output_type": "stream",
          "name": "stdout",
          "text": [
            "24\n",
            "99\n"
          ]
        }
      ]
    },
    {
      "cell_type": "markdown",
      "source": [
        "4 - Crea una lista de los cuadrados de los números de la siguiente lista [1, 2, 3, 4, 5, 6, 7, 8, 9, 10]. Recuerda utilizar las funciones lambda y map() para calcular el cuadrado de cada elemento de la lista."
      ],
      "metadata": {
        "id": "dJJSiF9cmirr"
      }
    },
    {
      "cell_type": "code",
      "source": [
        "numeros_al_cuadrado = [1, 2, 3, 4, 5, 6, 7, 8, 9, 10]\n",
        "cuadrados = list(map(lambda x: x**2, numeros_al_cuadrado))\n",
        "print(cuadrados)"
      ],
      "metadata": {
        "colab": {
          "base_uri": "https://localhost:8080/"
        },
        "id": "7G-h5TmImnOe",
        "outputId": "ab7af1d5-f028-44cc-c516-3444570beadf"
      },
      "execution_count": null,
      "outputs": [
        {
          "output_type": "stream",
          "name": "stdout",
          "text": [
            "[1, 4, 9, 16, 25, 36, 49, 64, 81, 100]\n"
          ]
        }
      ]
    },
    {
      "cell_type": "markdown",
      "source": [
        "5 - Has sido contratado como científico(a) de datos de una asociación de skate. Para analizar las notas recibidas por los skaters en algunas competiciones a lo largo del año, necesitas crear un código que calcule la puntuación de los atletas. Para ello, tu código debe recibir 5 notas ingresadas por los jueces."
      ],
      "metadata": {
        "id": "_3cWxJBmmn5d"
      }
    },
    {
      "cell_type": "code",
      "source": [
        "puntuacion = []\n",
        "for i in range(5):\n",
        "    nota = float(input(f\"Ingrese la nota del juez {i+1}: \"))\n",
        "    puntuacion.append(nota)\n",
        "\n",
        "print(f\"La puntuación del atleta es: {sum(puntuacion) / len(puntuacion)}\")\n",
        "print(puntuacion)"
      ],
      "metadata": {
        "colab": {
          "base_uri": "https://localhost:8080/"
        },
        "id": "suyIRYp_mrNf",
        "outputId": "ab51bd1b-a506-40d2-9134-b21c7427a18e"
      },
      "execution_count": null,
      "outputs": [
        {
          "output_type": "stream",
          "name": "stdout",
          "text": [
            "Ingrese la nota del juez 1: 5\n",
            "Ingrese la nota del juez 2: 6\n",
            "Ingrese la nota del juez 3: 5\n",
            "Ingrese la nota del juez 4: 4\n",
            "Ingrese la nota del juez 5: 5\n",
            "La puntuación del atleta es: 5.0\n",
            "[5.0, 6.0, 5.0, 4.0, 5.0]\n"
          ]
        }
      ]
    },
    {
      "cell_type": "markdown",
      "source": [
        "6 - Para cumplir con una demanda de una institución educativa para el análisis del rendimiento de sus estudiantes, necesitas crear una función que reciba una lista de 4 notas y devuelva:\n",
        "\n",
        "mayor nota\n",
        "menor nota\n",
        "media\n",
        "situación (Aprobado(a) o Reprobado(a))\n",
        "Uso de la función\n",
        "Mostrar: El estudiante obtuvo una media de `media`, con la mayor nota de `mayor` puntos y la menor nota de `menor` puntos y fue `situacion`.)"
      ],
      "metadata": {
        "id": "j6t8J7NlmsJI"
      }
    },
    {
      "cell_type": "code",
      "source": [
        "notas_alumno = []\n",
        "for i in range(4):\n",
        "    nota = float(input(f\"Ingrese la nota {i+1}: \"))\n",
        "    notas_alumno.append(nota)\n",
        "media =  sum(notas_alumno) / len(notas_alumno)\n",
        "if media >= 7:\n",
        "    print(f\"El estudiante obtuvo una media de {media}, con la mayor nota de {max(notas_alumno)} puntos y la menor nota de {min(notas_alumno)} puntos y fue aprobado.\")\n",
        "else:\n",
        "    print(f\"El estudiante obtuvo una media de {media}, con la mayor nota de {max(notas_alumno)} puntos y la menor nota de {min(notas_alumno)} puntos y fue reprobado.\")"
      ],
      "metadata": {
        "colab": {
          "base_uri": "https://localhost:8080/"
        },
        "id": "cLgR5QbUmyZb",
        "outputId": "71443db4-5022-4f8b-9498-3d6fca5b1e4a"
      },
      "execution_count": null,
      "outputs": [
        {
          "output_type": "stream",
          "name": "stdout",
          "text": [
            "Ingrese la nota 1: 6\n",
            "Ingrese la nota 2: 6\n",
            "Ingrese la nota 3: 6\n",
            "Ingrese la nota 4: 7\n",
            "El estudiante obtuvo una media de 6.25, con la mayor nota de 7.0 puntos y la menor nota de 6.0 puntos y fue reprobado.\n"
          ]
        }
      ]
    },
    {
      "cell_type": "markdown",
      "source": [
        "7 - Has recibido una demanda para tratar 2 listas con los nombres y apellidos de cada estudiante concatenándolos para presentar sus nombres completos en la forma Nombre Apellido. Las listas son:\n",
        "\n",
        "nombres = [\"juan\", \"MaRia\", \"JOSÉ\"]\n",
        "apellidos = [\"SILVA\", \"sosa\", \"Tavares\"]\n",
        "\n",
        "Normalizar nombres y apellidos y crear una nueva lista con los nombres completos\n",
        "Puedes apoyarte en la función map()"
      ],
      "metadata": {
        "id": "-7mmh_oRmzCS"
      }
    },
    {
      "cell_type": "code",
      "source": [
        "nombres = [\"juan\", \"MaRia\", \"JOSÉ\"]\n",
        "apellidos = [\"SILVA\", \"sosa\", \"Tavares\"]\n",
        "\n",
        "nombres_completos = list(map(lambda nombre, apellido: nombre.capitalize() + \" \" + apellido.capitalize(), nombres, apellidos))\n",
        "\n",
        "print(nombres_completos)"
      ],
      "metadata": {
        "colab": {
          "base_uri": "https://localhost:8080/"
        },
        "id": "Dcjtt6brm2ea",
        "outputId": "059ab624-8aad-4409-8dfa-81efff86e12f"
      },
      "execution_count": null,
      "outputs": [
        {
          "output_type": "stream",
          "name": "stdout",
          "text": [
            "['Juan Silva', 'Maria Sosa', 'José Tavares']\n"
          ]
        }
      ]
    },
    {
      "cell_type": "markdown",
      "source": [
        "8 - Como científico de datos en un equipo de fútbol, necesitas implementar nuevas formas de recopilación de datos sobre el rendimiento de los jugadores y del equipo en su conjunto. Tu primera acción es crear una forma de calcular la puntuación del equipo en el campeonato nacional a partir de los datos de goles marcados y recibidos en cada juego.\n",
        "\n",
        "Escribe una función llamada calcula_puntos() que recibe como parámetros dos listas de números enteros, representando los goles marcados y recibidos por el equipo en cada partido del campeonato. La función debe devolver la puntuación del equipo y el rendimiento en porcentaje, teniendo en cuenta que la victoria vale 3 puntos, el empate 1 punto y la derrota 0 puntos.\n",
        "\n",
        "Nota: si la cantidad de goles marcados en un partido es mayor que los recibidos, el equipo ganó. En caso de ser igual, el equipo empató, y si es menor, el equipo perdió. Para calcular el rendimiento, debemos hacer la razón entre la puntuación del equipo y la puntuación máxima que podría recibir.\n",
        "\n",
        "Para la prueba, utiliza las siguientes listas de goles marcados y recibidos:\n",
        "\n",
        "goles_marcados = [2, 1, 3, 1, 0]\n",
        "goles_recibidos = [1, 2, 2, 1, 3]\n",
        "Texto probablemente mostrado:\n",
        "La puntuación del equipo fue `puntos` y su rendimiento fue `desempeno`%\""
      ],
      "metadata": {
        "id": "7Guzgb2qm3Oz"
      }
    },
    {
      "cell_type": "code",
      "source": [
        "goles_marcados = []\n",
        "goles_recibidos = []\n",
        "\n",
        "for i in range(5):\n",
        "    goles_marcados.append(int(input(f\"Ingrese la cantidad de goles marcados en el partido {i+1}: \")))\n",
        "for i in range(5):\n",
        "    goles_recibidos.append(int(input(f\"Ingrese la cantidad de goles recibidos en el partido {i+1}: \")))\n",
        "\n",
        "def calcula_puntos(goles_marcados, goles_recibidos):\n",
        "    puntos = 0\n",
        "    for i in range(len(goles_marcados)):\n",
        "        if goles_marcados[i] > goles_recibidos[i]:\n",
        "            puntos += 3\n",
        "            print(f\"El equipo ganó el partido {i+1}\")\n",
        "        elif goles_marcados[i] == goles_recibidos[i]:\n",
        "            puntos += 1\n",
        "            print(f\"El equipo empató el partido {i+1}\")\n",
        "        else:\n",
        "            print(f\"El equipo perdió el partido {i+1}\")\n",
        "    rendimiento = puntos / (len(goles_marcados) * 3) * 100\n",
        "    return puntos, rendimiento\n",
        "\n",
        "puntos, rendimiento = calcula_puntos(goles_marcados, goles_recibidos)\n",
        "print(f\"La puntuación del equipo fue {puntos} y su rendimiento fue {rendimiento}%\")\n",
        "\n"
      ],
      "metadata": {
        "colab": {
          "base_uri": "https://localhost:8080/"
        },
        "id": "D8Lu93zZm9I0",
        "outputId": "4be61610-eb4a-4d04-97f4-a2f791a42401"
      },
      "execution_count": null,
      "outputs": [
        {
          "output_type": "stream",
          "name": "stdout",
          "text": [
            "Ingrese la cantidad de goles marcados en el partido 1: 2\n",
            "Ingrese la cantidad de goles marcados en el partido 2: 1\n",
            "Ingrese la cantidad de goles marcados en el partido 3: 3\n",
            "Ingrese la cantidad de goles marcados en el partido 4: 1\n",
            "Ingrese la cantidad de goles marcados en el partido 5: 0\n",
            "Ingrese la cantidad de goles recibidos en el partido 1: 1\n",
            "Ingrese la cantidad de goles recibidos en el partido 2: 2\n",
            "Ingrese la cantidad de goles recibidos en el partido 3: 2\n",
            "Ingrese la cantidad de goles recibidos en el partido 4: 1\n",
            "Ingrese la cantidad de goles recibidos en el partido 5: 3\n",
            "El equipo ganó el partido 1\n",
            "El equipo perdió el partido 2\n",
            "El equipo ganó el partido 3\n",
            "El equipo empató el partido 4\n",
            "El equipo perdió el partido 5\n",
            "La puntuación del equipo fue 7 y su rendimiento fue 46.666666666666664%\n"
          ]
        }
      ]
    },
    {
      "cell_type": "markdown",
      "source": [
        "9 - Te han desafiado a crear un código que calcule los gastos de un viaje a una de las cuatro ciudades desde Recife, siendo ellas: Salvador, Fortaleza, Natal y Aracaju.\n",
        "\n",
        "El costo diario del hotel es de 150 reales en todas ellas y el consumo de gasolina en el viaje en coche es de 14 km/l, siendo que el precio de la gasolina es de 5 reales por litro. Los gastos con paseos y alimentación a realizar en cada una de ellas por día serían [200, 400, 250, 300], respectivamente.\n",
        "\n",
        "Sabiendo que las distancias entre Recife y cada una de las ciudades son aproximadamente [850, 800, 300, 550] km, crea tres funciones: la primera función calcula los gastos de hotel (gasto_hotel), la segunda calcula los gastos de gasolina (gasto_gasolina) y la tercera los gastos de paseo y alimentación (gasto_paseo).\n",
        "\n",
        "Para probar, simula un viaje de 3 días a Salvador desde Recife. Considera el viaje de ida y vuelta en coche.\n",
        "\n",
        "Texto probablemente mostrado:\n",
        "Con base en los gastos definidos, un viaje de [dias] días a [ciudad] desde\n",
        "Recife costaría [gastos] reales."
      ],
      "metadata": {
        "id": "Nt7pmiN2m-Kx"
      }
    },
    {
      "cell_type": "code",
      "source": [
        "#gasto_hotel= duracion * hotel_por_dia\n",
        "#gasto_gasolina= (gasolina_por_km*consumo_por_km* elemento lista_ )*2\n",
        "#gasto_paseo= duracion * elemento lista_gastos\n",
        "\n",
        "#listas con datos\n",
        "lista_ciudades = [\"Salvador\", \"Fortaleza\", \"Natal\", \"Aracaju\"]\n",
        "lista_gastos = [200, 400, 250, 300]\n",
        "lista_distancias = [850, 800, 300, 550]\n",
        "\n",
        "#constantes\n",
        "hotel_por_dia = 150\n",
        "gasolina_por_km = 5\n",
        "consumo_por_km = 14\n",
        "\n",
        "#entradas de usuario\n",
        "duracion = int(input(\"Ingrese la cantidad de días del viaje: \"))\n",
        "ciudad = input(\"Ingrese la ciudad de destino: \")\n",
        "\n",
        "#validación de ciudad\n",
        "if ciudad in lista_ciudades:\n",
        "    ciudad_index = lista_ciudades.index(ciudad)\n",
        "    kilometraje = lista_distancias[ciudad_index]\n",
        "    gastos = lista_gastos[ciudad_index]\n",
        "\n",
        "    #funciones\n",
        "    def gasto_hotel(duracion, hotel_por_dia):\n",
        "      return duracion * hotel_por_dia\n",
        "\n",
        "    def gasto_gasolina(gasolina_por_km, consumo_por_km, kilometraje):\n",
        "      return (gasolina_por_km*consumo_por_km* kilometraje)*2\n",
        "\n",
        "    def gasto_paseo(duracion, gastos):\n",
        "      return duracion * gastos\n",
        "\n",
        "    #calculos\n",
        "    total_hotel = gasto_hotel(duracion, hotel_por_dia)\n",
        "    total_gasolina = gasto_gasolina(gasolina_por_km, consumo_por_km, kilometraje)\n",
        "    total_paseo = gasto_paseo(duracion, gastos)\n",
        "    gasto_total = total_hotel + total_gasolina + total_paseo\n",
        "\n",
        "\n",
        "    #imprime el resultado\n",
        "    print(f\"En base a los gastos definidos, un viaje de {duracion} días a {ciudad} desde Recife costaría {gasto_total} reales.\")\n",
        "    print(f\"Gastos en Hotel: {total_hotel}\")\n",
        "    print(f\"Gastos en Gasolina: {total_gasolina}\")\n",
        "    print(f\"Gastos en Paseo: {total_paseo}\")\n",
        "\n",
        "else:\n",
        "    print(\"La ciudad ingresada no es válida.\")\n",
        ""
      ],
      "metadata": {
        "id": "BoKxxZIMnBom",
        "colab": {
          "base_uri": "https://localhost:8080/"
        },
        "outputId": "bc6c38e6-084d-4abd-8046-b9d10ca96d39"
      },
      "execution_count": 1,
      "outputs": [
        {
          "output_type": "stream",
          "name": "stdout",
          "text": [
            "Ingrese la cantidad de días del viaje: 3\n",
            "Ingrese la ciudad de destino: Salvador\n",
            "En base a los gastoss definidos, un viaje de 3 días a Salvador desde Recife costaría 120050 reales.\n",
            "Gastos en Hotel: 450\n",
            "Gastos en Gasolina: 119000\n",
            "Gastos en Paseo: 600\n"
          ]
        }
      ]
    },
    {
      "cell_type": "markdown",
      "source": [
        "10 - Has comenzado una pasantía en una empresa que trabaja con procesamiento de lenguaje natural (NLP). Tu líder te solicitó que crees un fragmento de código que reciba una frase escrita por el usuario y filtre solo las palabras con un tamaño mayor o igual a 5, mostrándolas en una lista. Esta demanda se centra en el análisis del patrón de comportamiento de las personas al escribir palabras de esta cantidad de caracteres o más.\n",
        "\n",
        "Consejo: utiliza las funciones lambda y filter() para filtrar estas palabras. Recordando que la función integrada filter() recibe una función (en nuestro caso, una función lambda) y filtra un iterable según la función. Para tratar la frase, utiliza replace() para cambiar ',' '.', '!' y '?' por espacio.\n",
        "\n",
        "Utiliza la frase \"Aprender Python aquí en Alura es muy bueno\" para probar el código."
      ],
      "metadata": {
        "id": "N2kFX58knD54"
      }
    },
    {
      "cell_type": "code",
      "source": [
        "# Solicitando una frase y separándola por espacios. Usando replace para cambiar\n",
        "# puntuaciones por espacios.\n",
        "frase = input(\"Escribe una frase: \")\n",
        "frase = frase.replace(',',' ').replace('.',' ').replace('!',' ').replace('?',' ').split()\n",
        "\n",
        "# Filtrando la frase en formato de lista, pasando a la lista tamaño\n",
        "# solo las palabras con 5 o más caracteres e imprimiéndola en pantalla\n",
        "tamano = list(filter(lambda x: len(x) >= 5, frase))\n",
        "print(tamano)"
      ],
      "metadata": {
        "id": "GmTVYoMqnMby",
        "colab": {
          "base_uri": "https://localhost:8080/"
        },
        "outputId": "8cba181c-43cf-4216-e5d5-89cee07f8c12"
      },
      "execution_count": 3,
      "outputs": [
        {
          "output_type": "stream",
          "name": "stdout",
          "text": [
            "Escribe una frase: Aprender Python aqui en Alura es muy bueno\n",
            "['Aprender', 'Python', 'Alura', 'bueno']\n"
          ]
        }
      ]
    },
    {
      "cell_type": "code",
      "source": [],
      "metadata": {
        "id": "ZbfpvfWJMsjv"
      },
      "execution_count": null,
      "outputs": []
    },
    {
      "cell_type": "code",
      "source": [],
      "metadata": {
        "id": "TA-zGLJfMseA"
      },
      "execution_count": null,
      "outputs": []
    },
    {
      "cell_type": "code",
      "source": [],
      "metadata": {
        "id": "PrAppvR6MuKm"
      },
      "execution_count": null,
      "outputs": []
    },
    {
      "cell_type": "markdown",
      "source": [
        "## <font color=green> 3. ESTRUCTURAS DE DATOS COMPUESTAS\n",
        "---"
      ],
      "metadata": {
        "id": "DoB6wf2JCYf7"
      }
    },
    {
      "cell_type": "markdown",
      "source": [
        "## 3.1 Estructuras anidadas\n",
        "\n",
        "Previamente, aprendimos a manipular las listas, tuplas y diccionarios para trabajar con una secuencia o colección de valores sean numéricos, categóricos, etc. En esta aula, vamos a profundizar en otra situación común para la persona científica de datos que es trabajar con estos tipos de estructuras anidadas, o sea, cuando, por ejemplo, tenemos listas dentro de una lista."
      ],
      "metadata": {
        "id": "3or6MbnZDW_b"
      }
    },
    {
      "cell_type": "markdown",
      "source": [
        "### **Lista de listas**\n",
        "\n",
        "#### Formato estándar:\n",
        "\n",
        "```python\n",
        "[[a1, a2,...,an], [b1, b2,...,bn], ..., [n1, n2,...,nn]]\n",
        "```"
      ],
      "metadata": {
        "id": "fddus1G9HqB3"
      }
    },
    {
      "cell_type": "markdown",
      "source": [
        "#### **Situación 6:**\n",
        "\n",
        "Recibimos la demanda de transformar una lista con el nombre y las notas de tres trimestres de algunos estudiantes en una lista simple, con los nombres separados de las notas, y una lista de listas con las tres notas de cada estudiante separadas entre sí. Los datos recibidos corresponden a una lista con los nombres y las respectivas notas de cada estudiante.\n",
        "\n",
        "**¿Vamos a resolver este desafío?**\n",
        "\n",
        "Para facilitar nuestra comprensión del proceso, vamos a trabajar con un grupo de 5 estudiantes; sin embargo, puedes probar otros casos para practicar.\n"
      ],
      "metadata": {
        "id": "32K5LA11tFpz"
      }
    },
    {
      "cell_type": "code",
      "source": [
        "notas_grupo = ['Juan', 8.0, 9.0, 10.0, 'Maria', 9.0, 7.0, 6.0, 'José', 3.4, 7.0, 7.0, 'Claudia', 5.5, 6.6, 8.0, 'Ana', 6.0, 10.0, 9.5]"
      ],
      "metadata": {
        "id": "jlEP-c2YthpB"
      },
      "execution_count": null,
      "outputs": []
    },
    {
      "cell_type": "code",
      "source": [],
      "metadata": {
        "id": "azR_cX-ILghB"
      },
      "execution_count": null,
      "outputs": []
    },
    {
      "cell_type": "code",
      "source": [],
      "metadata": {
        "id": "GhfsJvs9LgjY"
      },
      "execution_count": null,
      "outputs": []
    },
    {
      "cell_type": "code",
      "source": [],
      "metadata": {
        "id": "tB8FA20gLiog"
      },
      "execution_count": null,
      "outputs": []
    },
    {
      "cell_type": "code",
      "source": [],
      "metadata": {
        "id": "SCi8Jl82Liqo"
      },
      "execution_count": null,
      "outputs": []
    },
    {
      "cell_type": "markdown",
      "source": [
        "### **Lista de tuplas**\n",
        "\n",
        "#### Formato estándar:\n",
        "\n",
        "```python\n",
        "[(a1, a2,...,an), (b1, b2,...,bn), ..., (n1, n2,...,nn)]\n",
        "```"
      ],
      "metadata": {
        "id": "SW0sVg68sK_z"
      }
    },
    {
      "cell_type": "markdown",
      "source": [
        "#### **Situación 7:**\n",
        "\n",
        "Necesitamos generar una lista de tuplas con los nombres de los estudiantes y el código ID de cada uno de ellos para la plataforma de análisis de datos. La creación del código consiste en concatenar la primera letra del nombre del estudiante con un número aleatorio de 0 a 999. Los datos recibidos corresponden a una lista con los nombres de cada estudiante.\n",
        "\n",
        "**¿Vamos a resolver este desafío?**\n",
        "\n",
        "Para facilitar nuestra comprensión del proceso, vamos a trabajar con un grupo de 5 estudiantes; sin embargo, puedes probar otros casos para practicar.\n"
      ],
      "metadata": {
        "id": "OId6jAZz5x2m"
      }
    },
    {
      "cell_type": "code",
      "source": [],
      "metadata": {
        "id": "YA1zJ0G6LkTy"
      },
      "execution_count": null,
      "outputs": []
    },
    {
      "cell_type": "code",
      "source": [],
      "metadata": {
        "id": "yBzPwhGiLkWa"
      },
      "execution_count": null,
      "outputs": []
    },
    {
      "cell_type": "code",
      "source": [],
      "metadata": {
        "id": "9qgGAjSyLndK"
      },
      "execution_count": null,
      "outputs": []
    },
    {
      "cell_type": "code",
      "source": [],
      "metadata": {
        "id": "jVRxtOyeLngM"
      },
      "execution_count": null,
      "outputs": []
    },
    {
      "cell_type": "markdown",
      "source": [
        "## 3.2 List comprehension\n",
        "\n",
        "Es una forma simple y concisa de crear una lista. Podemos aplicar condicionales y lazos para crear diversos tipos de listas a partir de patrones que deseamos para nuestra estructura de datos.\n",
        "\n",
        "https://docs.python.org/es/3/tutorial/datastructures.html?#list-comprehensions\n",
        "\n",
        "#### Formato estándar:\n",
        "\n",
        "```python\n",
        "[expresion for item in lista]\n",
        "```"
      ],
      "metadata": {
        "id": "srHAov19QCdb"
      }
    },
    {
      "cell_type": "markdown",
      "source": [
        "#### **Situación 8:**\n",
        "\n",
        "Recibimos la demanda de crear una lista con el promedio de los estudiantes de la lista de listas que creamos en la Situación 6, redondeando el promedio a una casilla decimal. Recordando que cada lista de la lista de listas contiene las tres notas de cada estudiante.\n",
        "\n",
        "**¿Vamos a resolver este desafío?**\n",
        "\n",
        "**Tip:** Utiliza el formato:\n",
        "```python\n",
        "[expresion for item in lista]\n",
        "```"
      ],
      "metadata": {
        "id": "l4HW0gDqecgM"
      }
    },
    {
      "cell_type": "code",
      "source": [
        "def promedio(lista: list=[0]) -> float:\n",
        "  ''' Función para calcular el promedio de notas en una lista\n",
        "\n",
        "  lista: list, default [0]\n",
        "    Lista con las notas para calcular el promedio\n",
        "  return = calculo: float\n",
        "    Promedio calculado\n",
        "  '''\n",
        "\n",
        "  calculo = sum(lista) / len(lista)\n",
        "\n",
        "  return calculo"
      ],
      "metadata": {
        "id": "J_atQRQdlpNe"
      },
      "execution_count": null,
      "outputs": []
    },
    {
      "cell_type": "code",
      "source": [],
      "metadata": {
        "id": "h7LeBrgnLAG6"
      },
      "execution_count": null,
      "outputs": []
    },
    {
      "cell_type": "code",
      "source": [],
      "metadata": {
        "id": "3j8_H7e8LAJZ"
      },
      "execution_count": null,
      "outputs": []
    },
    {
      "cell_type": "markdown",
      "source": [
        "#### **Situación 9:**\n",
        "\n",
        "Ahora, necesitamos utilizar los promedios calculados en el ejemplo anterior, y agruparlos con el nombre de los respectivos estudiantes. Esto será necesario para generar una lista que seleccione a aquellos estudiantes que posean un promedio final mayor o igual a 8 para concursar por una beca de estudios para el próximo año lectivo. Los datos recibidos corresponden a una lista de tuplas con los nombres y los códigos de los estudiantes junto a la lista de promedios calculados previamente.\n",
        "\n",
        "**Nota: El número de código será diferente cada vez que se ejecute la celda que los genera, por lo tanto, es completamente normal que estos códigos sean diferentes.**\n",
        "\n",
        "**¿Vamos a resolver este desafío?**\n",
        "\n",
        "Para facilitar nuestra comprensión del proceso vamos a trabajar con un grupo de 5 estudiantes.\n",
        "\n",
        "**Tip:** Utiliza el formato:\n",
        "\n",
        "```python\n",
        "[expresion for item in lista if condicion]\n",
        "```"
      ],
      "metadata": {
        "id": "ApLjXlAdhJKd"
      }
    },
    {
      "cell_type": "code",
      "source": [],
      "metadata": {
        "id": "QK-ubmmrLC7I"
      },
      "execution_count": null,
      "outputs": []
    },
    {
      "cell_type": "code",
      "source": [],
      "metadata": {
        "id": "df1Q8GGELC9b"
      },
      "execution_count": null,
      "outputs": []
    },
    {
      "cell_type": "markdown",
      "source": [
        "<font color=green>**Tip:**</font> Para lograr parear los promedios y\n",
        "los nombres fácilmente, podemos acudir a otra  built-in function: `zip()`\n",
        "\n",
        "Esta recibe uno o más iterables (lista, string, dict, etc.) y los retorna como un iterador de tuplas donde cada elemento de los iterables es pareado."
      ],
      "metadata": {
        "id": "U6KAABs7Dfpe"
      }
    },
    {
      "cell_type": "code",
      "source": [],
      "metadata": {
        "id": "841v92WvLEol"
      },
      "execution_count": null,
      "outputs": []
    },
    {
      "cell_type": "code",
      "source": [],
      "metadata": {
        "id": "U8b4G_2oLErp"
      },
      "execution_count": null,
      "outputs": []
    },
    {
      "cell_type": "markdown",
      "source": [
        "#### **Situación 10:**\n",
        "\n",
        "Recibimos dos demandas sobre este proyecto con las notas de los estudiantes:\n",
        "- Crear una lista de la situación de los estudiantes considerando los siguientes casos: Si su promedio es mayor o igual a 7, recibirá el valor \"Aprobado\" y en caso contrario recibirá el valor \"Reprobado\".\n",
        "- Generar una lista de listas con:\n",
        "  - Lista de tuplas con el nombre de los estudiantes y sus códigos\n",
        "  - Lista de listas con las notas de cada estudiante\n",
        "  - Lista con los promedios de cada estudiante\n",
        "  - Lista de la situación de los estudiantes de acuerdo con los promedios\n",
        "\n",
        "Los datos que utilizaremos son los mismos que generamos en las situaciones anteriores (`nombres`, `notas`, `promedios`).\n",
        "\n",
        "**¿Vamos a resolver este desafío?**\n",
        "\n",
        "Para avanzar en el proceso, vamos a dejar escritas las estructuras de datos que ya produjimos.\n",
        "\n",
        "**Tip:** Para la lista de las situaciones utiliza el formato:\n",
        "```python\n",
        "[resultado_if if condicion else resultado_else for item in lista]\n",
        "```"
      ],
      "metadata": {
        "id": "9yzRDIB0fkeF"
      }
    },
    {
      "cell_type": "code",
      "source": [],
      "metadata": {
        "id": "YGQIaCzkLGqd"
      },
      "execution_count": null,
      "outputs": []
    },
    {
      "cell_type": "code",
      "source": [],
      "metadata": {
        "id": "OAAQHwE1LGs2"
      },
      "execution_count": null,
      "outputs": []
    },
    {
      "cell_type": "markdown",
      "source": [
        "**Tip:** Para generar la lista de listas del enunciado podemos utilizar el siguiente formato:\n",
        "```python\n",
        "[expresion for item in lista de listas]\n",
        "```"
      ],
      "metadata": {
        "id": "0XsAi49IF9Ta"
      }
    },
    {
      "cell_type": "code",
      "source": [],
      "metadata": {
        "id": "1Dj6R1vTLIbI"
      },
      "execution_count": null,
      "outputs": []
    },
    {
      "cell_type": "code",
      "source": [],
      "metadata": {
        "id": "cTLEQQ2eLIqc"
      },
      "execution_count": null,
      "outputs": []
    },
    {
      "cell_type": "markdown",
      "source": [
        "<font color=green>**Tip:**</font> Podemos acudir a la forma más simple de generación de lista de listas con el uso directo de los corchetes sin la necesidad de utilizar las expresiones y el lazo `for` que se emplea en la comprensión de listas."
      ],
      "metadata": {
        "id": "4hkHEZGbGH7X"
      }
    },
    {
      "cell_type": "code",
      "source": [],
      "metadata": {
        "id": "1tEtWzSoLKKg"
      },
      "execution_count": null,
      "outputs": []
    },
    {
      "cell_type": "code",
      "source": [],
      "metadata": {
        "id": "lRk02Bm5LMB3"
      },
      "execution_count": null,
      "outputs": []
    },
    {
      "cell_type": "markdown",
      "source": [
        "## 3.3 Dict comprehension\n",
        "\n",
        "Es una forma simple y concisa de crear o modificar un diccionario. Podemos aplicar condicionales y lazos para crear diversos tipos de diccionarios a partir de los patrones que buscamos para nuestra estructura de datos y con el soporte de iterables como listas o sets.\n",
        "\n",
        "https://peps.python.org/pep-0274/\n",
        "\n",
        "#### Formato estándar:\n",
        "\n",
        "```python\n",
        "{llave: valor for item in lista}\n",
        "```"
      ],
      "metadata": {
        "id": "NmohhDl-QRpx"
      }
    },
    {
      "cell_type": "markdown",
      "source": [
        "#### **Situación 11:**\n",
        "\n",
        "Ahora, nuestra demanda consiste en generar un diccionario a partir de la lista de listas que creamos en la Situación 10 para entregar a la persona responsable por construir las tablas para el análisis de los datos.\n",
        "- Las llaves de nuestro diccionario serán las columnas identificando el tipo de dato\n",
        "- Los valores serán las listas con los datos correspondientes a aquella llave.\n",
        "\n",
        "**¿Vamos a resolver este desafío?**\n",
        "\n",
        "Para facilitar nuestra comprensión del proceso vamos a trabajar con un grupo de 5 estudiantes.\n",
        "\n",
        "**Tip:** Utiliza el formato\n",
        "\n",
        "```python\n",
        "{llave: valor for item in lista}\n",
        "```"
      ],
      "metadata": {
        "id": "kGt8hQXOKeIt"
      }
    },
    {
      "cell_type": "markdown",
      "source": [
        "1 - Crea un código para imprimir la suma de los elementos de cada una de las listas contenidas en la siguiente lista:\n",
        "lista_de_listas = [[4, 6, 5, 9], [1, 0, 7, 2], [3, 4, 1, 8]]"
      ],
      "metadata": {
        "id": "wI1S1NIMXXTr"
      }
    },
    {
      "cell_type": "code",
      "source": [
        "lista_de_listas = [[4, 6, 5, 9], [1, 0, 7, 2], [3, 4, 1, 8]]\n",
        "sumatorias = [sum(lista) for lista in lista_de_listas]\n",
        "print(sumatorias)"
      ],
      "metadata": {
        "id": "9psCU-i2Xiqa",
        "outputId": "35f15baa-ea3c-4090-8e17-5408fb412395",
        "colab": {
          "base_uri": "https://localhost:8080/"
        }
      },
      "execution_count": 1,
      "outputs": [
        {
          "output_type": "stream",
          "name": "stdout",
          "text": [
            "[24, 10, 16]\n"
          ]
        }
      ]
    },
    {
      "cell_type": "markdown",
      "source": [
        "2 - Crea un código para generar una lista que almacene el tercer elemento de cada tupla contenida en la siguiente lista de tuplas:\n",
        "\n",
        "lista_de_tuplas = [('Pedro', 1.74, 81), ('Júlia', 1.65, 67), ('Otávio', 1.81, 83)]"
      ],
      "metadata": {
        "id": "vlXjwVYPXlH9"
      }
    },
    {
      "cell_type": "code",
      "source": [
        "lista_de_tuplas = [('Pedro', 1.74, 81), ('Júlia', 1.65, 67), ('Otávio', 1.81, 83)]\n",
        "tercer_elemento = [tupla[2] for tupla in lista_de_tuplas]\n",
        "print(tercer_elemento)"
      ],
      "metadata": {
        "id": "yRY661SXXsVe",
        "outputId": "aa987adb-3641-465e-f8e0-542b7cca2bfe",
        "colab": {
          "base_uri": "https://localhost:8080/"
        }
      },
      "execution_count": 2,
      "outputs": [
        {
          "output_type": "stream",
          "name": "stdout",
          "text": [
            "[81, 67, 83]\n"
          ]
        }
      ]
    },
    {
      "cell_type": "markdown",
      "source": [
        "3 - A partir de la lista: lista = ['Pedro', 'Júlia', 'Otávio', 'Eduardo'], crea un código para generar una lista de tuplas en la que cada tupla tenga el primer elemento como la posición del nombre en la lista original y el segundo elemento siendo el propio nombre."
      ],
      "metadata": {
        "id": "pdg65P8YXrJQ"
      }
    },
    {
      "cell_type": "code",
      "source": [
        " lista = ['Pedro', 'Júlia', 'Otávio', 'Eduardo']\n",
        "\n",
        "lista_de_tuplas = [(lista.index(nombre), nombre) for nombre in lista]\n",
        "print(lista_de_tuplas)"
      ],
      "metadata": {
        "id": "Qp38hBUGYlB2",
        "outputId": "8e889620-f6cb-4a32-ef00-14deaa1287ba",
        "colab": {
          "base_uri": "https://localhost:8080/"
        }
      },
      "execution_count": 3,
      "outputs": [
        {
          "output_type": "stream",
          "name": "stdout",
          "text": [
            "[(0, 'Pedro'), (1, 'Júlia'), (2, 'Otávio'), (3, 'Eduardo')]\n"
          ]
        }
      ]
    },
    {
      "cell_type": "markdown",
      "source": [
        "4 - Crea una lista usando la comprensión de listas (list comprehension) que almacene solo el valor numérico de cada tupla en caso de que el primer elemento sea 'Apartamento', a partir de la siguiente lista de tuplas:\n",
        "\n",
        "alquiler = [('Apartamento', 1700), ('Apartamento', 1400), ('Casa', 2150), ('Apartamento', 1900), ('Casa', 1100)]"
      ],
      "metadata": {
        "id": "6SepUAUiYmHs"
      }
    },
    {
      "cell_type": "code",
      "source": [
        "alquiler = [('Apartamento', 1700), ('Apartamento', 1400), ('Casa', 2150), ('Apartamento', 1900), ('Casa', 1100)]\n",
        "lista = [valor for tipo, valor in alquiler if tipo == 'Apartamento']\n",
        "print(lista)"
      ],
      "metadata": {
        "id": "10H259riYvbM",
        "outputId": "97921df4-2e1b-487e-d72a-6221d04a2347",
        "colab": {
          "base_uri": "https://localhost:8080/"
        }
      },
      "execution_count": 4,
      "outputs": [
        {
          "output_type": "stream",
          "name": "stdout",
          "text": [
            "[1700, 1400, 1900]\n"
          ]
        }
      ]
    },
    {
      "cell_type": "markdown",
      "source": [
        "5 - Crea un diccionario usando la comprensión de diccionarios (dict comprehension) en el que las claves estén en la lista\n",
        "\n",
        "meses = ['Jan', 'Fev', 'Mar', 'Abr', 'Mai', 'Jun', 'Jul', 'Ago', 'Set', 'Out', 'Nov', 'Dez']\n",
        "\n",
        "y los valores estén en\n",
        "\n",
        "gasto = [860, 490, 1010, 780, 900, 630, 590, 770, 620, 560, 840, 360]."
      ],
      "metadata": {
        "id": "FMbSNSPRYwd4"
      }
    },
    {
      "cell_type": "code",
      "source": [
        "#listas existentes\n",
        "meses = ['Jan', 'Fev', 'Mar', 'Abr', 'Mai', 'Jun', 'Jul', 'Ago', 'Set', 'Out', 'Nov', 'Dez']\n",
        "gasto = [860, 490, 1010, 780, 900, 630, 590, 770, 620, 560, 840, 360]\n",
        "\n",
        "#creación de diccionario a partir de las dos listas existentes\n",
        "presupuesto = {meses:gasto for meses,gasto in zip(meses,gasto)}\n",
        "print(presupuesto)\n"
      ],
      "metadata": {
        "id": "J2onjo6_YqRH",
        "outputId": "e3f7f7d6-5f25-4810-9ff1-b5d398bf3719",
        "colab": {
          "base_uri": "https://localhost:8080/"
        }
      },
      "execution_count": 1,
      "outputs": [
        {
          "output_type": "stream",
          "name": "stdout",
          "text": [
            "{'Jan': 860, 'Fev': 490, 'Mar': 1010, 'Abr': 780, 'Mai': 900, 'Jun': 630, 'Jul': 590, 'Ago': 770, 'Set': 620, 'Out': 560, 'Nov': 840, 'Dez': 360}\n"
          ]
        }
      ]
    },
    {
      "cell_type": "markdown",
      "source": [
        "6 - Una tienda tiene una base de datos con la información de venta de cada representante y de cada año y necesita filtrar solo los datos del año 2022 con ventas mayores a 6000. La tienda proporcionó una muestra con solo las columnas de los años y los valores de venta para que puedas ayudar a realizar la filtración de los datos a través de un código:\n",
        "\n",
        "ventas = [('2023', 4093), ('2021', 4320), ('2021', 5959), ('2022', 8883), ('2023', 9859), ('2022', 5141), ('2022', 7688), ('2022', 9544), ('2023', 4794), ('2021', 7178), ('2022', 3030), ('2021', 7471), ('2022', 4226), ('2022', 8190), ('2021', 9680), ('2022', 5616)]\n",
        "\n",
        "Crea una lista usando la comprensión de listas para filtrar los valores de 2022 que sean mayores a 6000."
      ],
      "metadata": {
        "id": "u7Q7Y69dZtLe"
      }
    },
    {
      "cell_type": "code",
      "source": [
        "ventas = [('2023', 4093), ('2021', 4320), ('2021', 5959), ('2022', 8883), ('2023', 9859), ('2022', 5141), ('2022', 7688), ('2022', 9544), ('2023', 4794), ('2021', 7178), ('2022', 3030), ('2021', 7471), ('2022', 4226), ('2022', 8190), ('2021', 9680), ('2022', 5616)]\n",
        "lista_2022 = [año for año in ventas if año[0]== '2022']\n",
        "print(lista_2022)\n",
        "\n",
        "lista_ventas_6000 = [venta for venta in lista_2022 if venta[1] > 6000]\n",
        "print(lista_ventas_6000)"
      ],
      "metadata": {
        "id": "GuTwYw8NLNST",
        "colab": {
          "base_uri": "https://localhost:8080/"
        },
        "outputId": "d09444a9-4eda-4055-f60d-e6985e033b36"
      },
      "execution_count": 4,
      "outputs": [
        {
          "output_type": "stream",
          "name": "stdout",
          "text": [
            "[('2022', 8883), ('2022', 5141), ('2022', 7688), ('2022', 9544), ('2022', 3030), ('2022', 4226), ('2022', 8190), ('2022', 5616)]\n",
            "[('2022', 8883), ('2022', 7688), ('2022', 9544), ('2022', 8190)]\n"
          ]
        }
      ]
    },
    {
      "cell_type": "markdown",
      "source": [
        "7 - Una clínica analiza datos de pacientes y almacena el valor numérico de la glucosa en una base de datos y le gustaría etiquetar los datos de la siguiente manera:\n",
        "\n",
        "Glucosa igual o inferior a 70: 'Hipoglicemia'\n",
        "Glucosa entre 70 y 99: 'Normal'\n",
        "Glucosa entre 100 y 125: 'Alterada'\n",
        "Glucosa superior a 125: 'Diabetes'\n",
        "La clínica proporcionó parte de los valores y tu tarea es crear una lista de tuplas usando la comprensión de listas que contenga la etiqueta y el valor de la glucemia en cada tupla.\n",
        "\n",
        "glicemia = [129, 82, 60, 97, 101, 65, 62, 167, 87, 53, 58, 92, 66, 120, 109, 62, 86, 96, 103, 88, 155, 52, 89, 73]"
      ],
      "metadata": {
        "id": "Wf1UjupgZ8lh"
      }
    },
    {
      "cell_type": "code",
      "source": [
        "#Hipoglicemia: glucosa <70\n",
        "#Normal: 71>= glucosa <= 99\n",
        "#Alterada: 100 >= glucosa < 125\n",
        "#Diabetes: 125 <= glucosa\n",
        "\n",
        "glicemia = [129, 82, 60, 97, 101, 65, 62, 167, 87, 53, 58, 92, 66, 120, 109, 62, 86, 96, 103, 88, 155, 52, 89, 73]\n",
        "\n",
        "# Creación de la lista de tuplas\n",
        "resultados = [\n",
        "    ('Hipoglicemia', valor) if valor <= 70 else\n",
        "    ('Normal', valor) if 70 < valor <= 99 else\n",
        "    ('Alterada', valor) if 100 <= valor <= 125 else\n",
        "    ('Diabetes', valor)\n",
        "    for valor in glicemia\n",
        "]\n",
        "\n",
        "print(resultados)"
      ],
      "metadata": {
        "id": "CBbIcd5MaFpP",
        "outputId": "cc3aac81-c381-46a2-9f8a-f7cac1f413a6",
        "colab": {
          "base_uri": "https://localhost:8080/"
        }
      },
      "execution_count": 5,
      "outputs": [
        {
          "output_type": "stream",
          "name": "stdout",
          "text": [
            "[('Diabetes', 129), ('Normal', 82), ('Hipoglicemia', 60), ('Normal', 97), ('Alterada', 101), ('Hipoglicemia', 65), ('Hipoglicemia', 62), ('Diabetes', 167), ('Normal', 87), ('Hipoglicemia', 53), ('Hipoglicemia', 58), ('Normal', 92), ('Hipoglicemia', 66), ('Alterada', 120), ('Alterada', 109), ('Hipoglicemia', 62), ('Normal', 86), ('Normal', 96), ('Alterada', 103), ('Normal', 88), ('Diabetes', 155), ('Hipoglicemia', 52), ('Normal', 89), ('Normal', 73)]\n"
          ]
        }
      ]
    },
    {
      "cell_type": "markdown",
      "source": [
        "8 - Un comercio electrónico tiene información de id de venta, cantidad vendida y precio del producto divididos en las siguientes listas:\n",
        "\n",
        "id = [0, 1, 2, 3, 4, 5, 6, 7, 8, 9]\n",
        "cantidad = [15, 12, 1, 15, 2, 11, 2, 12, 2, 4]\n",
        "precio = [93.0, 102.0, 18.0, 41.0, 122.0, 14.0, 71.0, 48.0, 14.0, 144.0]\n",
        "\n",
        "La plataforma necesita estructurar estos datos en una tabla que contenga el valor total de la venta, que se obtiene multiplicando la cantidad por el precio unitario. Además, la tabla debe contener un encabezado indicando las columnas: 'id', 'cantidad', 'precio' y 'total'.\n",
        "\n",
        "Crea una lista de tuplas en la que cada tupla tenga id, cantidad, precio y valor total, siendo la primera tupla el encabezado de la tabla."
      ],
      "metadata": {
        "id": "9iu7HLetZ14G"
      }
    },
    {
      "cell_type": "code",
      "source": [
        "id = [0, 1, 2, 3, 4, 5, 6, 7, 8, 9]\n",
        "cantidad = [15, 12, 1, 15, 2, 11, 2, 12, 2, 4]\n",
        "precio = [93.0, 102.0, 18.0, 41.0, 122.0, 14.0, 71.0, 48.0, 14.0, 144.0]\n",
        "\n",
        "valor_total = [cantidad[i]*precio[i] for i in range(len(id))]\n",
        "print(valor_total)\n",
        "\n",
        "encabezado = ('id', 'cantidad', 'precio', 'total')\n",
        "tabla = [encabezado] + list(zip(id, cantidad, precio, valor_total))\n",
        "print(tabla)\n",
        "\n"
      ],
      "metadata": {
        "id": "dy1Soo4TaKJm",
        "outputId": "d970cb61-6a97-41af-874e-d0fda8442d2b",
        "colab": {
          "base_uri": "https://localhost:8080/"
        }
      },
      "execution_count": 7,
      "outputs": [
        {
          "output_type": "stream",
          "name": "stdout",
          "text": [
            "[1395.0, 1224.0, 18.0, 615.0, 244.0, 154.0, 142.0, 576.0, 28.0, 576.0]\n",
            "[('id', 'cantidad', 'precio', 'total'), (0, 15, 93.0, 1395.0), (1, 12, 102.0, 1224.0), (2, 1, 18.0, 18.0), (3, 15, 41.0, 615.0), (4, 2, 122.0, 244.0), (5, 11, 14.0, 154.0), (6, 2, 71.0, 142.0), (7, 12, 48.0, 576.0), (8, 2, 14.0, 28.0), (9, 4, 144.0, 576.0)]\n"
          ]
        }
      ]
    },
    {
      "cell_type": "markdown",
      "source": [
        "9 - Una empresa tiene sucursales distribuidas en los estados de la región Sudeste de Brasil. En una de las tablas de registro de las sucursales, hay una columna que contiene la información de a qué estado pertenece:\n",
        "\n",
        "\n",
        "estados =['CMX', 'OAX', 'PUE', 'PUE', 'CMX', 'PUE', 'OAX', 'OAX', 'OAX', 'CMX', 'CMX', 'PUE', 'OAX', 'CMX', 'VER', 'PUE', 'VER', 'CMX', 'PUE', 'CMX', 'OAX', 'CMX', 'PUE'].\n",
        "\n",
        "La empresa siempre está abriendo nuevas sucursales, por lo que la tabla está constantemente recibiendo nuevos registros y al gerente le gustaría tener la información actualizada de la cantidad de sucursales en cada estado.\n",
        "\n",
        "A partir de la columna con la información de los estados, crea un diccionario utilizando la comprensión de diccionarios (dict comprehension) con la clave siendo el nombre de un estado y el valor siendo la cantidad de veces que aparece el estado en la lista.\n",
        "\n",
        "Consejo: Puedes hacer un paso intermedio para generar una lista de listas en la que cada una de las listas tenga el nombre de solo un estado con valores repetidos."
      ],
      "metadata": {
        "id": "2yIC6RSCaTxI"
      }
    },
    {
      "cell_type": "code",
      "source": [
        "estados =['CMX', 'OAX', 'PUE', 'PUE', 'CMX', 'PUE', 'OAX', 'OAX', 'OAX', 'CMX', 'CMX', 'PUE', 'OAX', 'CMX', 'VER', 'PUE', 'VER', 'CMX', 'PUE', 'CMX', 'OAX', 'CMX', 'PUE']\n",
        "\n",
        "conteo_sucursales = {estado: estados.count(estado) for estado in set(estados)}\n",
        "print(conteo_sucursales)"
      ],
      "metadata": {
        "id": "Ka1JPCuvLP4x",
        "colab": {
          "base_uri": "https://localhost:8080/"
        },
        "outputId": "04895e31-b874-499f-ec25-946a64d2212b"
      },
      "execution_count": 11,
      "outputs": [
        {
          "output_type": "stream",
          "name": "stdout",
          "text": [
            "{'VER': 2, 'CMX': 8, 'PUE': 7, 'OAX': 6}\n"
          ]
        }
      ]
    },
    {
      "cell_type": "markdown",
      "source": [
        "10 - En esa misma tabla de registro de sucursales, hay una columna con la información de la cantidad de personas empleadas y el gerente quisiera tener un agrupamiento de la suma de esas personas para cada estado. Las informaciones contenidas en la tabla son:\n",
        "\n",
        " empleados = [('CMX', 16), ('OAX', 8), ('PUE', 9), ('PUE', 6), ('CMX', 10), ('PUE', 4), ('OAX',9),  ('OAX', 7), ('OAX', 12), ('CMX', 7), ('CMX', 11), ('PUE',8), ('OAX',8), ('CMX',9), ('VER', 13), ('PUE', 5),  ('VER', 9), ('CMX', 12), ('PUE', 10), ('CMX', 7), ('OAX', 14), ('CMX', 10), ('PUE', 12)]\n",
        "\n",
        " A partir de la lista de tuplas, crea un diccionario en el que las claves son los nombres de los estados únicos y los valores son las listas con el número de empleados referentes al estado. También crea un diccionario en el que las claves son los nombres de los estados y los valores son la suma de empleados por estado."
      ],
      "metadata": {
        "id": "n5EcFmoOahSk"
      }
    },
    {
      "cell_type": "code",
      "source": [
        "empleados = [('CMX', 16), ('OAX', 8), ('PUE', 9), ('PUE', 6), ('CMX', 10), ('PUE', 4),\n",
        "             ('OAX', 9), ('OAX', 7), ('OAX', 12), ('CMX', 7), ('CMX', 11), ('PUE', 8),\n",
        "             ('OAX', 8), ('CMX', 9), ('VER', 13), ('PUE', 5), ('VER', 9), ('CMX', 12),\n",
        "             ('PUE', 10), ('CMX', 7), ('OAX', 14), ('CMX', 10), ('PUE', 12)]\n",
        "\n",
        "# Crear un diccionario con listas de empleados por estado\n",
        "empleados_por_estado = {}\n",
        "for estado, cantidad in empleados:\n",
        "    if estado not in empleados_por_estado:\n",
        "        empleados_por_estado[estado] = []\n",
        "    empleados_por_estado[estado].append(cantidad)\n",
        "\n",
        "# Crear un diccionario con la suma de empleados por estado\n",
        "total_por_estado = {estado: sum(cantidades) for estado, cantidades in empleados_por_estado.items()}\n",
        "\n",
        "# Mostrar los resultados\n",
        "print(\"Empleados por estado:\", empleados_por_estado)\n",
        "print(\"Total de empleados por estado:\", total_por_estado)\n"
      ],
      "metadata": {
        "id": "4GhlzfLbLP8L",
        "colab": {
          "base_uri": "https://localhost:8080/"
        },
        "outputId": "9215c3a4-c7d9-48c2-f7f0-c8e97927b619"
      },
      "execution_count": 13,
      "outputs": [
        {
          "output_type": "stream",
          "name": "stdout",
          "text": [
            "Empleados por estado: {'CMX': [16, 10, 7, 11, 9, 12, 7, 10], 'OAX': [8, 9, 7, 12, 8, 14], 'PUE': [9, 6, 4, 8, 5, 10, 12], 'VER': [13, 9]}\n",
            "Total de empleados por estado: {'CMX': 82, 'OAX': 58, 'PUE': 54, 'VER': 22}\n"
          ]
        }
      ]
    },
    {
      "cell_type": "markdown",
      "source": [
        "## <font color=green> 4. LIDIANDO CON EXCEPCIONES\n",
        "---"
      ],
      "metadata": {
        "id": "RxKC5WVoCYp3"
      }
    },
    {
      "cell_type": "markdown",
      "source": [
        "Hemos podido evidenciar hasta aquí la existencia de algunos errores y excepciones en la ejecución de algún comando. Como científico/a de datos o programador, necesitarás estar atento a estas situaciones para evitar bugs o problemas en tus códigos y análisis que puedan afectar la experiencia tanto del usuario como la eficiencia de su análisis.\n",
        "\n",
        "Existen básicamente dos formas distintas de errores: Los **errores de sintáxis** y las **excepciones**.\n",
        "\n",
        "Las excepciones son errores detectados durante la ejecución e interrumpen el flujo del programa cerrándolo en caso de que no sean tratadas.  \n",
        "\n",
        "Vamos a aprender a identificar y tratar algunas de las excepciones aquí, pero es siempre importante consultar la documentación para investigar y verificar cuáles se ajustan a sus proyectos.\n",
        "\n",
        "**Documentación sobre errores y excepciones:** https://docs.python.org/es/3/tutorial/errors.html"
      ],
      "metadata": {
        "id": "MzOZ_0M3CU1x"
      }
    },
    {
      "cell_type": "markdown",
      "source": [
        "## 4.1 Tratando las Excepciones\n",
        "\n",
        "El tratamiento de las excepciones contribuye a establecer un flujo alternativo para la ejecución del código evitando la interrupción de los procesos inesperadamente.\n",
        "\n",
        "Existe una serie de excepciones, y a partir del comportamiento que queremos, y de los errores que queremos tratar, es posible construir un camino para el usuario, o también, proveer más detalles sobre aquella excepción.\n",
        "\n",
        "- Jerarquía de las excepciones (https://docs.python.org/es/3/library/exceptions.html#exception-hierarchy)"
      ],
      "metadata": {
        "id": "x3E66krBST7K"
      }
    },
    {
      "cell_type": "markdown",
      "source": [
        "### Try ... Except\n",
        "\n",
        "```python\n",
        "try:\n",
        "  # código que será ejecutado. En caso de que surja una excepción, para inmediatamente\n",
        "except <nombre_de_la_excepcion as e>:\n",
        "  # Si surje una excepción en el try, ejecuta este código, si no, salta esta etapa\n",
        "```"
      ],
      "metadata": {
        "id": "h9lj8Wfk__cl"
      }
    },
    {
      "cell_type": "markdown",
      "source": [
        "#### **Situación 12:**\n",
        "\n",
        "Creaste un código que lee un diccionario con las notas de los estudiantes y querías retornar la lista de notas de un estudiante.\n",
        "\n",
        "En caso que el/la estudiante no esté matriculado(a) en el grupo debemos tratar la excepción para presentar el mensaje \"Estudiante no matriculado(a) en el grupo\".\n",
        "\n",
        "Vamos a trabajar en este ejemplo con la excepción **Key Error** que interrumpirá el processo de este trecho de código.\n",
        "\n",
        "**¿Vamos a probar este primer tratamiento?**\n",
        "\n"
      ],
      "metadata": {
        "id": "miwzhPNdD8Ty"
      }
    },
    {
      "cell_type": "code",
      "source": [
        "notas = {'Juan': [8.0, 9.0, 10.0], 'Maria': [9.0, 7.0, 6.0], 'José': [3.4, 7.0, 8.0], 'Claudia': [5.5, 6.6, 8.0],\n",
        "         'Ana': [6.0, 10.0, 9.5], 'Jorge': [5.5, 7.5, 9.0], 'Julia': [6.0, 8.0, 7.0], 'Pedro': [3.0, 4.0, 6.0]}"
      ],
      "metadata": {
        "id": "UvVbXY0XVm-f"
      },
      "execution_count": null,
      "outputs": []
    },
    {
      "cell_type": "code",
      "source": [],
      "metadata": {
        "id": "rFBq02dbJtkF"
      },
      "execution_count": null,
      "outputs": []
    },
    {
      "cell_type": "code",
      "source": [],
      "metadata": {
        "id": "IZwxTL1EJvRl"
      },
      "execution_count": null,
      "outputs": []
    },
    {
      "cell_type": "markdown",
      "source": [
        "### Agregando la cláusula Else\n",
        "\n",
        "```python\n",
        "try:\n",
        "  # código que será ejecutado. En caso de que surja una excepción, para inmediatamente\n",
        "except:\n",
        "  # Si surje una excepción en el try, ejecuta este código, si no, salta esta etapa\n",
        "else:\n",
        "  # Si no surjen excepciones, ejecuta esta parte del código\n",
        "```"
      ],
      "metadata": {
        "id": "hKhKzgQoBHLb"
      }
    },
    {
      "cell_type": "markdown",
      "source": [
        "#### **Situación 13:**\n",
        "\n",
        "Creaste un código que lee un diccionario con las notas de los estudiantes y querías retornar la lista de notas de un estudiante.\n",
        "\n",
        "En caso de que el/la estudiante no esté matriculado(a) en la clase, debe aparecer el siguiente mensaje: \"Estudiante no matriculado(a) en el grupo\" y, si no surje la excepción, debemos exhibir la lista con las notas del(la) estudiante.\n",
        "\n",
        "Vamos a trabajar en este ejemplo con la excepción **Key Error** que interrumpirá el proceso de este trecho de código.\n",
        "\n",
        "**¿Vamos a probar este tratamiento?**\n"
      ],
      "metadata": {
        "id": "USN3SA2tMjL0"
      }
    },
    {
      "cell_type": "code",
      "source": [],
      "metadata": {
        "id": "Qr_4-D3UJxcE"
      },
      "execution_count": null,
      "outputs": []
    },
    {
      "cell_type": "code",
      "source": [],
      "metadata": {
        "id": "uy2xPGXoJzXS"
      },
      "execution_count": null,
      "outputs": []
    },
    {
      "cell_type": "markdown",
      "source": [
        "### Añadiendo la cláusula finally\n",
        "\n",
        "```python\n",
        "try:\n",
        "  # código que será ejecutado. En caso de que surja una excepción, para inmediatamente\n",
        "except:\n",
        "  # Si surje una excepción en el try, ejecuta este código, si no, salta esta etapa\n",
        "else:\n",
        "  # Si no surjen excepciones, ejecuta esta parte del código\n",
        "finally:\n",
        "  # Ejecuta este trecho (con o sin excepción)\n",
        "```"
      ],
      "metadata": {
        "id": "Dw_efTlbBhll"
      }
    },
    {
      "cell_type": "markdown",
      "source": [
        "#### **Situación 14:**\n",
        "\n",
        "Creaste un código que lee un diccionario con las notas de los estudiantes y querías retornar la lista de notas de un estudiante.\n",
        "\n",
        "En caso de que el/la estudiante no esté matriculado(a) en la clase, debe aparecer el siguiente mensaje: \"Estudiante no matriculado(a) en el grupo\" y, si no surje la excepción, debemos exhibir la lista con las notas del(la) estudiante. Un texto avisando que \"La consulta ha concluído.\" debe ser mostrado independientemente de si surgió o no alguna excepción.\n",
        "\n",
        "\n",
        "Vamos a trabajar en este ejemplo con la excepción **Key Error** que interrumpirá el proceso de este trecho del código.\n",
        "\n",
        "**¿Vamos a probar este tratamiento?**"
      ],
      "metadata": {
        "id": "jGtFVx5GdnsS"
      }
    },
    {
      "cell_type": "code",
      "source": [],
      "metadata": {
        "id": "PwdLYP_zJ04s"
      },
      "execution_count": null,
      "outputs": []
    },
    {
      "cell_type": "code",
      "source": [],
      "metadata": {
        "id": "pv0BaQ95J1BA"
      },
      "execution_count": null,
      "outputs": []
    },
    {
      "cell_type": "markdown",
      "source": [
        "## 4.2 Raise\n",
        "\n",
        "Otra forma de trabajar con las excepciones en tu código, es generando tus propias excepciones para determinados comportamientos que deseas en tu código.\n",
        "\n",
        "Para ello, utilizamos la palabra clave `raise` junto al tipo de excepción que se desea mostrar y el mensaje que será exhibido.   "
      ],
      "metadata": {
        "id": "HdjllLBpST_2"
      }
    },
    {
      "cell_type": "markdown",
      "source": [
        "```python\n",
        "raise NombreDelError(\"Mensaje deseado.\")\n",
        "```"
      ],
      "metadata": {
        "id": "_nIOnDQufv6Z"
      }
    },
    {
      "cell_type": "markdown",
      "source": [
        "#### **Situação 15:**\n",
        "\n",
        "Creaste una función para calcular el promedio de un estudiante en una determinada materia pasando en una lista las notas de este estudiante.\n",
        "\n",
        "Pretendes tratar 2 situaciones:\n",
        "\n",
        "- Si la lista posee un valor no numérico el cálculo de promedio no será ejecutado y un mensaje de \"No fue posible calcular el promedio del(la) estudiante. Solo se admiten valores numéricos!\" será exhibido.\n",
        "\n",
        "- En caso que la lista tenga más de 4 notas, surgirá una excepción del tipo **ValueError** informando que \"La lista no puede poseer más de 4 notas.\"\n",
        "\n",
        "Un texto avisando que \"La consulta ha concluído.\" debe ser mostrado independientemente de si surgió o no alguna excepción.\n",
        "\n",
        "**¿Vamos a resolver este desafío?**"
      ],
      "metadata": {
        "id": "xapeB2ivgB7R"
      }
    },
    {
      "cell_type": "code",
      "source": [
        "def promedio(lista: list=[0]) -> float:\n",
        "  ''' Función para calcular el promedio de notas en una lista\n",
        "\n",
        "  lista: list, default [0]\n",
        "    Lista con las notas para calcular el promedio\n",
        "  return = calculo: float\n",
        "    Promedio calculado\n",
        "  '''\n",
        "\n",
        "  calculo = sum(lista) / len(lista)\n",
        "\n",
        "  return calculo"
      ],
      "metadata": {
        "id": "kKeFuHUfhSfa"
      },
      "execution_count": null,
      "outputs": []
    },
    {
      "cell_type": "code",
      "source": [],
      "metadata": {
        "id": "_ghW6hb9KBpU"
      },
      "execution_count": null,
      "outputs": []
    },
    {
      "cell_type": "code",
      "source": [],
      "metadata": {
        "id": "X2To8kJdKGFk"
      },
      "execution_count": null,
      "outputs": []
    },
    {
      "cell_type": "code",
      "source": [],
      "metadata": {
        "id": "nrCsWqX6KGIA"
      },
      "execution_count": null,
      "outputs": []
    }
  ]
}